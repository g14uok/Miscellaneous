{
 "cells": [
  {
   "cell_type": "markdown",
   "metadata": {},
   "source": [
    "From the users file we can say that all the 58,842 users installed the game in the First Week of June.\n",
    "\n",
    "Pre processed the file Purchases as our observation period is from June-August, but it has purchases from June-December\n",
    "I have observed that the September-December purchases(2200) are comparitively less than that of June-August(5500).\n",
    "\n",
    "Number of unique users who purchased any item during June-August is around 2100. So, less than 4% users actually buy inapp purchases. This has gone down to 80 (0.15%) from Sep-Dec.\n",
    "\n",
    "Out of 58,842 around 58,831 users actually played the game atleast once from June-August (from Sessions File).\n",
    "\n",
    "The Long term value is the is how much revenue we estimate that the user will generate over his/her lifetime playing our game.\n",
    "\n",
    "Observation period is from June-August\n",
    "\n",
    "The inapp purchases ranges from 3.5 to 70.\n",
    "\n",
    "From the Purchases file I have calculated the Date of First Purchase, Date of Last Purchase and the differnce between these 2 dates, Total number of purchases made by a customer and his Long Term Revenue \n",
    "\n",
    "This data is really helpful because marketing people can know whether the users are interested in their game or not\n",
    "\n",
    "All the variables like total purchases made, purchase duration and our predictor variable are Right skewed. So, we need to classify customers into High spending customers and low spending customers based on a threshold. By trial and error method I kept that threshold as 750.\n",
    "\n",
    "From the Sessions file we got around 0.5 million observations which is a very good number as the maximum number it can reach is \n",
    "58,842(users)*91(days) = 0.535 million. So, almost all users are returning to play our game atleast one time a day during June-August.\n",
    "\n",
    "I have created two variables namely total_sessions_played(Sum of all sessions played by an user) and Highest_Level_reached(Highest level reached by an user) during June-August.\n",
    "\n",
    "We can classify the users as \"Rookie\" who are present at Right Bottom as these users played many \n",
    "sessions but did not make it to the higher levels.[total_sessions_played > 1750 and Highest_Level_reached < 50]\n",
    "\n",
    "\"Pro_Gamers\" who played less sessions and made it to the higher levels [Highest_Level_reached > 25 and total_sessions_played < 250]\n",
    "\n",
    "The rest of the users are categorized as \"Normal_Gamers\"\n",
    "\n",
    "\n",
    "Joined these three data frames by taking unique id as udid of a customer\n",
    "\n",
    "saved the dataframe into a csv file as a backup as our preprocessing stage is done and we just need to model our data.\n",
    "\n",
    "We can go for Logaritmic models but it is hard to understand those interactions instead I have classified the customers on their spending habits and Gaming level. This can be useful to Marketing people as they can target their adds to incite the customers based on these classifications.\n",
    "\n",
    "We can say that the Long Term value is in Positive linear relation with all other attributes but some are strongly correlated and some are not as we know that correlation is not a causation.\n",
    "\n",
    "From the correlation heat map We can keep a threshold for eliminating the redundant features for building a linear regression model.\n",
    "\n",
    "Otherwise we can go for Feature selection Backward elimination technique of Linear regression \n",
    "by keeping a threshold of confidence level to find out the most important features of this model.\n",
    "\n",
    "Tried different models like:\n",
    "Linear Regression Ordinary Least Squares model\n",
    "Lasso Regression with penalization factor of 130(experimented with different values)\n",
    "As there is less amount of data going for deep learning model is not correct\n",
    "\n",
    "\n",
    "We can do the cross validation and grid search for tuning the hyperparameter like alpha of Lasso for getting good accuracy. But that kind of overfit the model.\n",
    "\n",
    "So, we need to fit different regression models for different segment (Low spending Customers and High spending customers) otherwise logarithmic model will also do a good job but things get complicated when explaining the logaritmic values.\n",
    "\n",
    "we can say that there is an increase in longterm value (LTV) if the observation period is increased for low end customers but for high end customers it is staying sttill\n",
    "\n",
    "As expected the absolute error for a low spending customer is coming around 75(Long term Value < 700) and for high spending customers is coming around 857(1000< Long term Value < 16000).\n",
    "\n",
    "\n",
    "\n"
   ]
  },
  {
   "cell_type": "code",
   "execution_count": 10,
   "metadata": {
    "collapsed": true
   },
   "outputs": [],
   "source": [
    "import pandas as pd\n",
    "import numpy as np\n",
    "import matplotlib.pyplot as plt\n",
    "from sklearn import preprocessing\n",
    "from sklearn.model_selection import cross_val_score\n",
    "from sklearn.model_selection import KFold\n",
    "from sklearn.preprocessing import StandardScaler\n",
    "from sklearn.pipeline import Pipeline\n",
    "import seaborn as sns\n",
    "import time"
   ]
  },
  {
   "cell_type": "code",
   "execution_count": 12,
   "metadata": {
    "collapsed": true
   },
   "outputs": [],
   "source": [
    "dfp = pd.read_csv(\"Purchases.csv\")"
   ]
  },
  {
   "cell_type": "code",
   "execution_count": 13,
   "metadata": {},
   "outputs": [
    {
     "data": {
      "text/html": [
       "<div>\n",
       "<style scoped>\n",
       "    .dataframe tbody tr th:only-of-type {\n",
       "        vertical-align: middle;\n",
       "    }\n",
       "\n",
       "    .dataframe tbody tr th {\n",
       "        vertical-align: top;\n",
       "    }\n",
       "\n",
       "    .dataframe thead th {\n",
       "        text-align: right;\n",
       "    }\n",
       "</style>\n",
       "<table border=\"1\" class=\"dataframe\">\n",
       "  <thead>\n",
       "    <tr style=\"text-align: right;\">\n",
       "      <th></th>\n",
       "      <th>udid</th>\n",
       "      <th>date</th>\n",
       "      <th>daily_iap_rev</th>\n",
       "      <th>purchases_made</th>\n",
       "    </tr>\n",
       "  </thead>\n",
       "  <tbody>\n",
       "    <tr>\n",
       "      <th>0</th>\n",
       "      <td>44080da2aaa54b95ae96327e3649b651</td>\n",
       "      <td>6/8/2015</td>\n",
       "      <td>3.5</td>\n",
       "      <td>1</td>\n",
       "    </tr>\n",
       "    <tr>\n",
       "      <th>1</th>\n",
       "      <td>6593f2ec3f6848afa1177198a7cf29b6</td>\n",
       "      <td>6/15/2015</td>\n",
       "      <td>14.0</td>\n",
       "      <td>1</td>\n",
       "    </tr>\n",
       "    <tr>\n",
       "      <th>2</th>\n",
       "      <td>7468b1857ea848b1aa6fece800193e52</td>\n",
       "      <td>7/13/2015</td>\n",
       "      <td>70.0</td>\n",
       "      <td>1</td>\n",
       "    </tr>\n",
       "    <tr>\n",
       "      <th>3</th>\n",
       "      <td>bf57de635791447eb630a998e8251a4a</td>\n",
       "      <td>8/25/2015</td>\n",
       "      <td>70.0</td>\n",
       "      <td>1</td>\n",
       "    </tr>\n",
       "    <tr>\n",
       "      <th>4</th>\n",
       "      <td>7468b1857ea848b1aa6fece800193e52</td>\n",
       "      <td>9/18/2015</td>\n",
       "      <td>70.0</td>\n",
       "      <td>1</td>\n",
       "    </tr>\n",
       "  </tbody>\n",
       "</table>\n",
       "</div>"
      ],
      "text/plain": [
       "                               udid       date  daily_iap_rev  purchases_made\n",
       "0  44080da2aaa54b95ae96327e3649b651   6/8/2015            3.5               1\n",
       "1  6593f2ec3f6848afa1177198a7cf29b6  6/15/2015           14.0               1\n",
       "2  7468b1857ea848b1aa6fece800193e52  7/13/2015           70.0               1\n",
       "3  bf57de635791447eb630a998e8251a4a  8/25/2015           70.0               1\n",
       "4  7468b1857ea848b1aa6fece800193e52  9/18/2015           70.0               1"
      ]
     },
     "execution_count": 13,
     "metadata": {},
     "output_type": "execute_result"
    }
   ],
   "source": [
    "dfp.head()"
   ]
  },
  {
   "cell_type": "code",
   "execution_count": 14,
   "metadata": {},
   "outputs": [
    {
     "data": {
      "text/plain": [
       "udid              0\n",
       "date              0\n",
       "daily_iap_rev     0\n",
       "purchases_made    0\n",
       "dtype: int64"
      ]
     },
     "execution_count": 14,
     "metadata": {},
     "output_type": "execute_result"
    }
   ],
   "source": [
    "dfp.isnull().sum()"
   ]
  },
  {
   "cell_type": "markdown",
   "metadata": {},
   "source": [
    "So, we do not have any missing values in our Purchases file"
   ]
  },
  {
   "cell_type": "code",
   "execution_count": 38,
   "metadata": {
    "collapsed": true
   },
   "outputs": [],
   "source": [
    "dfp[\"date\"] = pd.to_datetime(dfp[\"date\"])"
   ]
  },
  {
   "cell_type": "code",
   "execution_count": 39,
   "metadata": {},
   "outputs": [
    {
     "data": {
      "text/plain": [
       "array([ 3.5,  7. , 14. , 28. , 35. , 70. ])"
      ]
     },
     "execution_count": 39,
     "metadata": {},
     "output_type": "execute_result"
    }
   ],
   "source": [
    "np.sort(dfp[dfp[\"purchases_made\"]==1][\"daily_iap_rev\"].unique())"
   ]
  },
  {
   "cell_type": "markdown",
   "metadata": {},
   "source": [
    "So we can deduce that each inapp purchase ranges from 3.5 to 70."
   ]
  },
  {
   "cell_type": "code",
   "execution_count": 40,
   "metadata": {
    "collapsed": true
   },
   "outputs": [],
   "source": [
    "dfp.gb = dfp.groupby(\"udid\")"
   ]
  },
  {
   "cell_type": "code",
   "execution_count": 41,
   "metadata": {
    "collapsed": true
   },
   "outputs": [],
   "source": [
    "dfp.longtermvalue = dfp.gb[\"daily_iap_rev\"].sum()"
   ]
  },
  {
   "cell_type": "code",
   "execution_count": 42,
   "metadata": {
    "collapsed": true
   },
   "outputs": [],
   "source": [
    "dfp.firstdate_of_purchase = dfp.gb[\"date\"].min()"
   ]
  },
  {
   "cell_type": "code",
   "execution_count": 43,
   "metadata": {
    "collapsed": true
   },
   "outputs": [],
   "source": [
    "dfp.lastdate_of_purchase = dfp.gb[\"date\"].max()"
   ]
  },
  {
   "cell_type": "code",
   "execution_count": 44,
   "metadata": {},
   "outputs": [
    {
     "data": {
      "text/plain": [
       "udid\n",
       "0020f5c05795400bb2868009cf4b2080    62 days\n",
       "002b934415cb4ae78579f3be87a6283d   173 days\n",
       "004f2f923b8f47a6b9f91fa5c61095de     0 days\n",
       "0076ecfa49cf4130870d52ed786dd8bc     0 days\n",
       "00776d802fef4a26b525aed437af4728     0 days\n",
       "Name: date, dtype: timedelta64[ns]"
      ]
     },
     "execution_count": 44,
     "metadata": {},
     "output_type": "execute_result"
    }
   ],
   "source": [
    "dfp.purchase_duration = pd.to_datetime(dfp.lastdate_of_purchase) - pd.to_datetime(dfp.firstdate_of_purchase) \n",
    "dfp.purchase_duration.head()"
   ]
  },
  {
   "cell_type": "code",
   "execution_count": 46,
   "metadata": {
    "collapsed": true
   },
   "outputs": [],
   "source": [
    "dfp.total_purchases_made = dfp.gb[\"purchases_made\"].sum()"
   ]
  },
  {
   "cell_type": "code",
   "execution_count": 48,
   "metadata": {
    "collapsed": true
   },
   "outputs": [],
   "source": [
    "df_modified_Purchases = pd.DataFrame(dfp.longtermvalue.index,                                               \n",
    "                                     columns = [\"udid\"],\n",
    "                                     index = dfp.longtermvalue.index)"
   ]
  },
  {
   "cell_type": "code",
   "execution_count": 49,
   "metadata": {
    "collapsed": true
   },
   "outputs": [],
   "source": [
    "\n",
    "df_modified_Purchases[\"firstdate_of_purchase\"] = dfp.firstdate_of_purchase\n",
    "df_modified_Purchases[\"lastdate_of_purchase\"] = dfp.lastdate_of_purchase\n",
    "df_modified_Purchases[\"purchase_duration\"] = dfp.purchase_duration\n",
    "df_modified_Purchases[\"total_purchases_made\"] = dfp.total_purchases_made\n",
    "df_modified_Purchases[\"Long term Value\"] = dfp.longtermvalue"
   ]
  },
  {
   "cell_type": "code",
   "execution_count": 50,
   "metadata": {
    "collapsed": true
   },
   "outputs": [],
   "source": [
    "df_modified_Purchases[\"purchase_duration\"] = df_modified_Purchases[\"purchase_duration\"]"
   ]
  },
  {
   "cell_type": "code",
   "execution_count": 51,
   "metadata": {},
   "outputs": [
    {
     "data": {
      "text/html": [
       "<div>\n",
       "<style scoped>\n",
       "    .dataframe tbody tr th:only-of-type {\n",
       "        vertical-align: middle;\n",
       "    }\n",
       "\n",
       "    .dataframe tbody tr th {\n",
       "        vertical-align: top;\n",
       "    }\n",
       "\n",
       "    .dataframe thead th {\n",
       "        text-align: right;\n",
       "    }\n",
       "</style>\n",
       "<table border=\"1\" class=\"dataframe\">\n",
       "  <thead>\n",
       "    <tr style=\"text-align: right;\">\n",
       "      <th></th>\n",
       "      <th>udid</th>\n",
       "      <th>firstdate_of_purchase</th>\n",
       "      <th>lastdate_of_purchase</th>\n",
       "      <th>purchase_duration</th>\n",
       "      <th>total_purchases_made</th>\n",
       "      <th>Long term Value</th>\n",
       "    </tr>\n",
       "    <tr>\n",
       "      <th>udid</th>\n",
       "      <th></th>\n",
       "      <th></th>\n",
       "      <th></th>\n",
       "      <th></th>\n",
       "      <th></th>\n",
       "      <th></th>\n",
       "    </tr>\n",
       "  </thead>\n",
       "  <tbody>\n",
       "    <tr>\n",
       "      <th>0020f5c05795400bb2868009cf4b2080</th>\n",
       "      <td>0020f5c05795400bb2868009cf4b2080</td>\n",
       "      <td>2015-06-01</td>\n",
       "      <td>2015-08-02</td>\n",
       "      <td>62 days</td>\n",
       "      <td>12</td>\n",
       "      <td>682.5</td>\n",
       "    </tr>\n",
       "    <tr>\n",
       "      <th>002b934415cb4ae78579f3be87a6283d</th>\n",
       "      <td>002b934415cb4ae78579f3be87a6283d</td>\n",
       "      <td>2015-06-06</td>\n",
       "      <td>2015-11-26</td>\n",
       "      <td>173 days</td>\n",
       "      <td>7</td>\n",
       "      <td>154.0</td>\n",
       "    </tr>\n",
       "    <tr>\n",
       "      <th>004f2f923b8f47a6b9f91fa5c61095de</th>\n",
       "      <td>004f2f923b8f47a6b9f91fa5c61095de</td>\n",
       "      <td>2015-06-10</td>\n",
       "      <td>2015-06-10</td>\n",
       "      <td>0 days</td>\n",
       "      <td>1</td>\n",
       "      <td>3.5</td>\n",
       "    </tr>\n",
       "    <tr>\n",
       "      <th>0076ecfa49cf4130870d52ed786dd8bc</th>\n",
       "      <td>0076ecfa49cf4130870d52ed786dd8bc</td>\n",
       "      <td>2015-09-11</td>\n",
       "      <td>2015-09-11</td>\n",
       "      <td>0 days</td>\n",
       "      <td>1</td>\n",
       "      <td>3.5</td>\n",
       "    </tr>\n",
       "    <tr>\n",
       "      <th>00776d802fef4a26b525aed437af4728</th>\n",
       "      <td>00776d802fef4a26b525aed437af4728</td>\n",
       "      <td>2015-06-06</td>\n",
       "      <td>2015-06-06</td>\n",
       "      <td>0 days</td>\n",
       "      <td>1</td>\n",
       "      <td>3.5</td>\n",
       "    </tr>\n",
       "  </tbody>\n",
       "</table>\n",
       "</div>"
      ],
      "text/plain": [
       "                                                              udid  \\\n",
       "udid                                                                 \n",
       "0020f5c05795400bb2868009cf4b2080  0020f5c05795400bb2868009cf4b2080   \n",
       "002b934415cb4ae78579f3be87a6283d  002b934415cb4ae78579f3be87a6283d   \n",
       "004f2f923b8f47a6b9f91fa5c61095de  004f2f923b8f47a6b9f91fa5c61095de   \n",
       "0076ecfa49cf4130870d52ed786dd8bc  0076ecfa49cf4130870d52ed786dd8bc   \n",
       "00776d802fef4a26b525aed437af4728  00776d802fef4a26b525aed437af4728   \n",
       "\n",
       "                                 firstdate_of_purchase lastdate_of_purchase  \\\n",
       "udid                                                                          \n",
       "0020f5c05795400bb2868009cf4b2080            2015-06-01           2015-08-02   \n",
       "002b934415cb4ae78579f3be87a6283d            2015-06-06           2015-11-26   \n",
       "004f2f923b8f47a6b9f91fa5c61095de            2015-06-10           2015-06-10   \n",
       "0076ecfa49cf4130870d52ed786dd8bc            2015-09-11           2015-09-11   \n",
       "00776d802fef4a26b525aed437af4728            2015-06-06           2015-06-06   \n",
       "\n",
       "                                 purchase_duration  total_purchases_made  \\\n",
       "udid                                                                       \n",
       "0020f5c05795400bb2868009cf4b2080           62 days                    12   \n",
       "002b934415cb4ae78579f3be87a6283d          173 days                     7   \n",
       "004f2f923b8f47a6b9f91fa5c61095de            0 days                     1   \n",
       "0076ecfa49cf4130870d52ed786dd8bc            0 days                     1   \n",
       "00776d802fef4a26b525aed437af4728            0 days                     1   \n",
       "\n",
       "                                  Long term Value  \n",
       "udid                                               \n",
       "0020f5c05795400bb2868009cf4b2080            682.5  \n",
       "002b934415cb4ae78579f3be87a6283d            154.0  \n",
       "004f2f923b8f47a6b9f91fa5c61095de              3.5  \n",
       "0076ecfa49cf4130870d52ed786dd8bc              3.5  \n",
       "00776d802fef4a26b525aed437af4728              3.5  "
      ]
     },
     "execution_count": 51,
     "metadata": {},
     "output_type": "execute_result"
    }
   ],
   "source": [
    "df_modified_Purchases.head()"
   ]
  },
  {
   "cell_type": "code",
   "execution_count": 54,
   "metadata": {
    "collapsed": true
   },
   "outputs": [],
   "source": [
    "df_modified_Purchases[\"purchase_duration\"] = str(df_modified_Purchases[\"purchase_duration\"])\n"
   ]
  },
  {
   "cell_type": "code",
   "execution_count": 55,
   "metadata": {},
   "outputs": [
    {
     "ename": "ValueError",
     "evalue": "invalid literal for int() with base 10: 'udid'",
     "output_type": "error",
     "traceback": [
      "\u001b[1;31m---------------------------------------------------------------------------\u001b[0m",
      "\u001b[1;31mValueError\u001b[0m                                Traceback (most recent call last)",
      "\u001b[1;32m<ipython-input-55-c9de93c18deb>\u001b[0m in \u001b[0;36m<module>\u001b[1;34m()\u001b[0m\n\u001b[0;32m      1\u001b[0m \u001b[0mstr_spl\u001b[0m \u001b[1;33m=\u001b[0m \u001b[1;32mlambda\u001b[0m \u001b[0mx\u001b[0m\u001b[1;33m:\u001b[0m\u001b[0mint\u001b[0m\u001b[1;33m(\u001b[0m\u001b[0mx\u001b[0m\u001b[1;33m.\u001b[0m\u001b[0msplit\u001b[0m\u001b[1;33m(\u001b[0m\u001b[1;33m)\u001b[0m\u001b[1;33m[\u001b[0m\u001b[1;36m0\u001b[0m\u001b[1;33m]\u001b[0m\u001b[1;33m)\u001b[0m \u001b[1;33m+\u001b[0m\u001b[1;36m1\u001b[0m\u001b[1;33m\u001b[0m\u001b[0m\n\u001b[1;32m----> 2\u001b[1;33m \u001b[0mdf_modified_Purchases\u001b[0m\u001b[1;33m[\u001b[0m\u001b[1;34m\"purchase_duration\"\u001b[0m\u001b[1;33m]\u001b[0m  \u001b[1;33m=\u001b[0m \u001b[0mdf_modified_Purchases\u001b[0m\u001b[1;33m[\u001b[0m\u001b[1;34m\"purchase_duration\"\u001b[0m\u001b[1;33m]\u001b[0m\u001b[1;33m.\u001b[0m\u001b[0mapply\u001b[0m\u001b[1;33m(\u001b[0m\u001b[0mstr_spl\u001b[0m\u001b[1;33m)\u001b[0m\u001b[1;33m\u001b[0m\u001b[0m\n\u001b[0m",
      "\u001b[1;32m~\\Anaconda3\\envs\\py35\\lib\\site-packages\\pandas\\core\\series.py\u001b[0m in \u001b[0;36mapply\u001b[1;34m(self, func, convert_dtype, args, **kwds)\u001b[0m\n\u001b[0;32m   2549\u001b[0m             \u001b[1;32melse\u001b[0m\u001b[1;33m:\u001b[0m\u001b[1;33m\u001b[0m\u001b[0m\n\u001b[0;32m   2550\u001b[0m                 \u001b[0mvalues\u001b[0m \u001b[1;33m=\u001b[0m \u001b[0mself\u001b[0m\u001b[1;33m.\u001b[0m\u001b[0masobject\u001b[0m\u001b[1;33m\u001b[0m\u001b[0m\n\u001b[1;32m-> 2551\u001b[1;33m                 \u001b[0mmapped\u001b[0m \u001b[1;33m=\u001b[0m \u001b[0mlib\u001b[0m\u001b[1;33m.\u001b[0m\u001b[0mmap_infer\u001b[0m\u001b[1;33m(\u001b[0m\u001b[0mvalues\u001b[0m\u001b[1;33m,\u001b[0m \u001b[0mf\u001b[0m\u001b[1;33m,\u001b[0m \u001b[0mconvert\u001b[0m\u001b[1;33m=\u001b[0m\u001b[0mconvert_dtype\u001b[0m\u001b[1;33m)\u001b[0m\u001b[1;33m\u001b[0m\u001b[0m\n\u001b[0m\u001b[0;32m   2552\u001b[0m \u001b[1;33m\u001b[0m\u001b[0m\n\u001b[0;32m   2553\u001b[0m         \u001b[1;32mif\u001b[0m \u001b[0mlen\u001b[0m\u001b[1;33m(\u001b[0m\u001b[0mmapped\u001b[0m\u001b[1;33m)\u001b[0m \u001b[1;32mand\u001b[0m \u001b[0misinstance\u001b[0m\u001b[1;33m(\u001b[0m\u001b[0mmapped\u001b[0m\u001b[1;33m[\u001b[0m\u001b[1;36m0\u001b[0m\u001b[1;33m]\u001b[0m\u001b[1;33m,\u001b[0m \u001b[0mSeries\u001b[0m\u001b[1;33m)\u001b[0m\u001b[1;33m:\u001b[0m\u001b[1;33m\u001b[0m\u001b[0m\n",
      "\u001b[1;32mpandas/_libs/src/inference.pyx\u001b[0m in \u001b[0;36mpandas._libs.lib.map_infer\u001b[1;34m()\u001b[0m\n",
      "\u001b[1;32m<ipython-input-55-c9de93c18deb>\u001b[0m in \u001b[0;36m<lambda>\u001b[1;34m(x)\u001b[0m\n\u001b[1;32m----> 1\u001b[1;33m \u001b[0mstr_spl\u001b[0m \u001b[1;33m=\u001b[0m \u001b[1;32mlambda\u001b[0m \u001b[0mx\u001b[0m\u001b[1;33m:\u001b[0m\u001b[0mint\u001b[0m\u001b[1;33m(\u001b[0m\u001b[0mx\u001b[0m\u001b[1;33m.\u001b[0m\u001b[0msplit\u001b[0m\u001b[1;33m(\u001b[0m\u001b[1;33m)\u001b[0m\u001b[1;33m[\u001b[0m\u001b[1;36m0\u001b[0m\u001b[1;33m]\u001b[0m\u001b[1;33m)\u001b[0m \u001b[1;33m+\u001b[0m\u001b[1;36m1\u001b[0m\u001b[1;33m\u001b[0m\u001b[0m\n\u001b[0m\u001b[0;32m      2\u001b[0m \u001b[0mdf_modified_Purchases\u001b[0m\u001b[1;33m[\u001b[0m\u001b[1;34m\"purchase_duration\"\u001b[0m\u001b[1;33m]\u001b[0m  \u001b[1;33m=\u001b[0m \u001b[0mdf_modified_Purchases\u001b[0m\u001b[1;33m[\u001b[0m\u001b[1;34m\"purchase_duration\"\u001b[0m\u001b[1;33m]\u001b[0m\u001b[1;33m.\u001b[0m\u001b[0mapply\u001b[0m\u001b[1;33m(\u001b[0m\u001b[0mstr_spl\u001b[0m\u001b[1;33m)\u001b[0m\u001b[1;33m\u001b[0m\u001b[0m\n",
      "\u001b[1;31mValueError\u001b[0m: invalid literal for int() with base 10: 'udid'"
     ]
    }
   ],
   "source": [
    "str_spl = lambda x:int(x.split()[0]) +1 \n",
    "df_modified_Purchases[\"purchase_duration\"]  = df_modified_Purchases[\"purchase_duration\"].apply(str_spl) "
   ]
  },
  {
   "cell_type": "code",
   "execution_count": null,
   "metadata": {
    "collapsed": true
   },
   "outputs": [],
   "source": []
  }
 ],
 "metadata": {
  "kernelspec": {
   "display_name": "Python [conda env:py35]",
   "language": "python",
   "name": "conda-env-py35-py"
  },
  "language_info": {
   "codemirror_mode": {
    "name": "ipython",
    "version": 3
   },
   "file_extension": ".py",
   "mimetype": "text/x-python",
   "name": "python",
   "nbconvert_exporter": "python",
   "pygments_lexer": "ipython3",
   "version": "3.5.4"
  }
 },
 "nbformat": 4,
 "nbformat_minor": 2
}
