{
 "cells": [
  {
   "cell_type": "markdown",
   "metadata": {},
   "source": [
    "# Preprocessing of Data"
   ]
  },
  {
   "cell_type": "markdown",
   "metadata": {},
   "source": [
    "Purchses file:\n",
    "\n",
    ". Pre processed the Purchases file as our observation period is from June-August, but it has purchases from June-December\n",
    "I have observed that the September-December purchases(2200) are comparitively less than that of June-August(5500).\n",
    "\n",
    ". Number of unique users who purchased any item during June-August is around 2100. So, less than 4% users actually buy inapp purchases. This has gone down to 80 (0.15%) from Sep-Dec.\n",
    "\n",
    ". Out of 58,842 around 58,831 users actually played the game atleast once from June-August (from Sessions File).\n",
    "\n",
    ". The Long term value is the is how much revenue we estimate that the user will generate over his/her lifetime playing our game.\n",
    "\n",
    ". Observation period is from June-August\n",
    "\n",
    ". The inapp purchases ranges from 3.5 to 70.\n",
    "\n",
    ". From the Purchases file I have calculated the Date of First Purchase, Date of Last Purchase and the differnce between these 2 dates, Total number of purchases made by a customer and his Long Term Revenue \n",
    "\n",
    ". This data is really helpful because marketing people can know whether the users are interested in their game or not\n",
    "\n",
    ". All the variables like total purchases made, purchase duration and our predictor variable are Right skewed. So, we need to classify customers into High spending customers and low spending customers based on a threshold. By trial and error method I kept that threshold as 750."
   ]
  },
  {
   "cell_type": "code",
   "execution_count": null,
   "metadata": {
    "collapsed": true
   },
   "outputs": [],
   "source": []
  },
  {
   "cell_type": "code",
   "execution_count": null,
   "metadata": {
    "collapsed": true
   },
   "outputs": [],
   "source": []
  },
  {
   "cell_type": "markdown",
   "metadata": {},
   "source": [
    "Sessions file:\n",
    "\n",
    ". From the Sessions file we got around 0.5 million observations which is a very good number as the maximum number it can reach  is \n",
    ". 58,842(users)*91(days) = 0.535 million. So, almost all users are returning to play our game atleast one time a day during June-August.\n",
    "\n",
    ". I have created two variables namely total_sessions_played(Sum of all sessions played by an user) and Highest_Level_reached(Highest level reached by an user) during June-August.\n",
    "\n",
    ". We can classify the users as \"Rookie\" who are present at Right Bottom as these users played many \n",
    "sessions but did not make it to the higher levels.[total_sessions_played > 1750 and Highest_Level_reached < 50]\n",
    "\n",
    ". \"Pro_Gamers\" who played less sessions and made it to the higher levels [Highest_Level_reached > 25 and total_sessions_played < 250]\n",
    "\n",
    ". The rest of the users are categorized as \"Normal_Gamers\""
   ]
  },
  {
   "cell_type": "code",
   "execution_count": null,
   "metadata": {
    "collapsed": true
   },
   "outputs": [],
   "source": []
  },
  {
   "cell_type": "code",
   "execution_count": null,
   "metadata": {
    "collapsed": true
   },
   "outputs": [],
   "source": []
  },
  {
   "cell_type": "markdown",
   "metadata": {},
   "source": [
    "Users file:\n",
    "\n",
    "From the users file we can say that all the 58,842 users installed the game in the First Week of June."
   ]
  },
  {
   "cell_type": "markdown",
   "metadata": {},
   "source": [
    "Miscellaneous:"
   ]
  },
  {
   "cell_type": "markdown",
   "metadata": {},
   "source": [
    ". Joined these three data frames by taking unique id as udid of a customer\n",
    "\n",
    ". Saved the dataframe into a csv file as a backup as our preprocessing stage is done and we just need to model our data."
   ]
  },
  {
   "cell_type": "code",
   "execution_count": null,
   "metadata": {
    "collapsed": true
   },
   "outputs": [],
   "source": []
  },
  {
   "cell_type": "code",
   "execution_count": null,
   "metadata": {
    "collapsed": true
   },
   "outputs": [],
   "source": []
  },
  {
   "cell_type": "markdown",
   "metadata": {},
   "source": [
    "# Modelling of data:"
   ]
  },
  {
   "cell_type": "markdown",
   "metadata": {},
   "source": [
    ". We can go for Logaritmic models but it is hard to understand those interactions instead I have classified the customers on their spending habits and Gaming level. This can be useful to Marketing people as they can target their adds to incite the customers based on these classifications.\n",
    "\n",
    ". We can say that the Long Term value is in Positive linear relation with all other attributes but some are strongly correlated and some are not as we know that correlation is not a causation.\n",
    "\n",
    ". From the correlation heat map We can keep a threshold for eliminating the redundant features for building a linear regression model.\n",
    "\n",
    ". Otherwise we can go for Feature selection Backward elimination technique of Linear regression \n",
    "by keeping a threshold of confidence level to find out the most important features of this model.\n",
    "\n",
    ". Tried different models like:\n",
    "Linear Regression Ordinary Least Squares model\n",
    "Lasso Regression with penalization factor of 130(experimented with different values)\n",
    "As there is less amount of data going for deep learning model is not correct\n",
    "\n",
    "\n",
    ". We can do the cross validation and grid search for tuning the hyperparameter like alpha of Lasso for getting good accuracy. But that kind of overfit the model.\n",
    "\n",
    ". So, we need to fit different regression models for different segment (Low spending Customers and High spending customers) otherwise logarithmic model will also do a good job but things get complicated when explaining the logaritmic values.\n",
    "\n",
    ". we can say that there is an increase in longterm value (LTV) if the observation period is increased for low end customers but for high end customers it is staying still\n",
    "\n",
    ". As expected the absolute error for a low spending customer is coming around 75(Long term Value < 700) and for high spending customers is coming around 857(1000< Long term Value < 16000)."
   ]
  },
  {
   "cell_type": "code",
   "execution_count": null,
   "metadata": {
    "collapsed": true
   },
   "outputs": [],
   "source": []
  },
  {
   "cell_type": "code",
   "execution_count": null,
   "metadata": {
    "collapsed": true
   },
   "outputs": [],
   "source": []
  },
  {
   "cell_type": "code",
   "execution_count": 489,
   "metadata": {},
   "outputs": [
    {
     "data": {
      "text/html": [
       "<div>\n",
       "<style scoped>\n",
       "    .dataframe tbody tr th:only-of-type {\n",
       "        vertical-align: middle;\n",
       "    }\n",
       "\n",
       "    .dataframe tbody tr th {\n",
       "        vertical-align: top;\n",
       "    }\n",
       "\n",
       "    .dataframe thead th {\n",
       "        text-align: right;\n",
       "    }\n",
       "</style>\n",
       "<table border=\"1\" class=\"dataframe\">\n",
       "  <thead>\n",
       "    <tr style=\"text-align: right;\">\n",
       "      <th></th>\n",
       "      <th>total_sessions_played</th>\n",
       "      <th>Highest_Level_reached</th>\n",
       "      <th>purchase_duration</th>\n",
       "      <th>playing_duration</th>\n",
       "      <th>total_purchases_made</th>\n",
       "      <th>gamer_level</th>\n",
       "      <th>Cust_Spend</th>\n",
       "      <th>Long term Value</th>\n",
       "    </tr>\n",
       "  </thead>\n",
       "  <tbody>\n",
       "    <tr>\n",
       "      <th>0</th>\n",
       "      <td>501</td>\n",
       "      <td>48</td>\n",
       "      <td>63.0</td>\n",
       "      <td>84.0</td>\n",
       "      <td>12</td>\n",
       "      <td>Normal_Gamers</td>\n",
       "      <td>Low</td>\n",
       "      <td>682.5</td>\n",
       "    </tr>\n",
       "    <tr>\n",
       "      <th>1</th>\n",
       "      <td>826</td>\n",
       "      <td>42</td>\n",
       "      <td>18.0</td>\n",
       "      <td>92.0</td>\n",
       "      <td>2</td>\n",
       "      <td>Normal_Gamers</td>\n",
       "      <td>Low</td>\n",
       "      <td>17.5</td>\n",
       "    </tr>\n",
       "    <tr>\n",
       "      <th>2</th>\n",
       "      <td>242</td>\n",
       "      <td>30</td>\n",
       "      <td>1.0</td>\n",
       "      <td>52.0</td>\n",
       "      <td>1</td>\n",
       "      <td>Pro_Gamers</td>\n",
       "      <td>Low</td>\n",
       "      <td>3.5</td>\n",
       "    </tr>\n",
       "    <tr>\n",
       "      <th>3</th>\n",
       "      <td>82</td>\n",
       "      <td>13</td>\n",
       "      <td>1.0</td>\n",
       "      <td>17.0</td>\n",
       "      <td>1</td>\n",
       "      <td>Normal_Gamers</td>\n",
       "      <td>Low</td>\n",
       "      <td>3.5</td>\n",
       "    </tr>\n",
       "    <tr>\n",
       "      <th>4</th>\n",
       "      <td>7</td>\n",
       "      <td>4</td>\n",
       "      <td>1.0</td>\n",
       "      <td>11.0</td>\n",
       "      <td>1</td>\n",
       "      <td>Normal_Gamers</td>\n",
       "      <td>Low</td>\n",
       "      <td>3.5</td>\n",
       "    </tr>\n",
       "  </tbody>\n",
       "</table>\n",
       "</div>"
      ],
      "text/plain": [
       "   total_sessions_played  Highest_Level_reached  purchase_duration  \\\n",
       "0                    501                     48               63.0   \n",
       "1                    826                     42               18.0   \n",
       "2                    242                     30                1.0   \n",
       "3                     82                     13                1.0   \n",
       "4                      7                      4                1.0   \n",
       "\n",
       "   playing_duration  total_purchases_made    gamer_level Cust_Spend  \\\n",
       "0              84.0                    12  Normal_Gamers        Low   \n",
       "1              92.0                     2  Normal_Gamers        Low   \n",
       "2              52.0                     1     Pro_Gamers        Low   \n",
       "3              17.0                     1  Normal_Gamers        Low   \n",
       "4              11.0                     1  Normal_Gamers        Low   \n",
       "\n",
       "   Long term Value  \n",
       "0            682.5  \n",
       "1             17.5  \n",
       "2              3.5  \n",
       "3              3.5  \n",
       "4              3.5  "
      ]
     },
     "execution_count": 489,
     "metadata": {},
     "output_type": "execute_result"
    }
   ],
   "source": [
    "dff.head()"
   ]
  },
  {
   "cell_type": "code",
   "execution_count": null,
   "metadata": {
    "collapsed": true
   },
   "outputs": [],
   "source": []
  },
  {
   "cell_type": "code",
   "execution_count": null,
   "metadata": {
    "collapsed": true
   },
   "outputs": [],
   "source": []
  },
  {
   "cell_type": "markdown",
   "metadata": {},
   "source": [
    "# Question and Answers"
   ]
  },
  {
   "cell_type": "code",
   "execution_count": null,
   "metadata": {
    "collapsed": true
   },
   "outputs": [],
   "source": []
  },
  {
   "cell_type": "markdown",
   "metadata": {},
   "source": [
    "1)   What is LTV (in $) of users in this game? What would you project LTV of these users to\n",
    "be if they continued to play the game beyond the observation period?"
   ]
  },
  {
   "cell_type": "code",
   "execution_count": 495,
   "metadata": {},
   "outputs": [
    {
     "data": {
      "text/html": [
       "<div>\n",
       "<style scoped>\n",
       "    .dataframe tbody tr th:only-of-type {\n",
       "        vertical-align: middle;\n",
       "    }\n",
       "\n",
       "    .dataframe tbody tr th {\n",
       "        vertical-align: top;\n",
       "    }\n",
       "\n",
       "    .dataframe thead th {\n",
       "        text-align: right;\n",
       "    }\n",
       "</style>\n",
       "<table border=\"1\" class=\"dataframe\">\n",
       "  <thead>\n",
       "    <tr style=\"text-align: right;\">\n",
       "      <th></th>\n",
       "      <th>udid</th>\n",
       "      <th>Long term Value</th>\n",
       "    </tr>\n",
       "  </thead>\n",
       "  <tbody>\n",
       "    <tr>\n",
       "      <th>0</th>\n",
       "      <td>0020f5c05795400bb2868009cf4b2080</td>\n",
       "      <td>682.5</td>\n",
       "    </tr>\n",
       "    <tr>\n",
       "      <th>1</th>\n",
       "      <td>002b934415cb4ae78579f3be87a6283d</td>\n",
       "      <td>17.5</td>\n",
       "    </tr>\n",
       "    <tr>\n",
       "      <th>2</th>\n",
       "      <td>004f2f923b8f47a6b9f91fa5c61095de</td>\n",
       "      <td>3.5</td>\n",
       "    </tr>\n",
       "    <tr>\n",
       "      <th>3</th>\n",
       "      <td>00776d802fef4a26b525aed437af4728</td>\n",
       "      <td>3.5</td>\n",
       "    </tr>\n",
       "    <tr>\n",
       "      <th>4</th>\n",
       "      <td>008808b510244c9b957adbf27dd8c748</td>\n",
       "      <td>3.5</td>\n",
       "    </tr>\n",
       "  </tbody>\n",
       "</table>\n",
       "</div>"
      ],
      "text/plain": [
       "                               udid  Long term Value\n",
       "0  0020f5c05795400bb2868009cf4b2080            682.5\n",
       "1  002b934415cb4ae78579f3be87a6283d             17.5\n",
       "2  004f2f923b8f47a6b9f91fa5c61095de              3.5\n",
       "3  00776d802fef4a26b525aed437af4728              3.5\n",
       "4  008808b510244c9b957adbf27dd8c748              3.5"
      ]
     },
     "execution_count": 495,
     "metadata": {},
     "output_type": "execute_result"
    }
   ],
   "source": [
    "dft1.loc[:,[\"udid\",\"Long term Value\"]].head()"
   ]
  },
  {
   "cell_type": "markdown",
   "metadata": {},
   "source": [
    "We can say that there is an increase in longterm value (LTV) if the observation period is increased for low end customers but for high end customers it is staying still."
   ]
  },
  {
   "cell_type": "code",
   "execution_count": null,
   "metadata": {
    "collapsed": true
   },
   "outputs": [],
   "source": []
  },
  {
   "cell_type": "code",
   "execution_count": null,
   "metadata": {
    "collapsed": true
   },
   "outputs": [],
   "source": []
  },
  {
   "cell_type": "markdown",
   "metadata": {},
   "source": [
    "2) What are the key assumptions that you are making? What are the weaknesses of these\n",
    "assumptions?"
   ]
  },
  {
   "cell_type": "markdown",
   "metadata": {},
   "source": [
    "The main assumption is that we expect that our Long Term Value of a customer varies Linearly with our predictors for different \n",
    "categories of spending of customers. \n",
    "\n",
    "We assumed that the model for different gamer_levels is equal. \n",
    "\n",
    "We do not have enough information about the customer like Gender, age, Employment status and Education status. We consider that this is uniform among all sectors of people and the inapp purchase of each item varies from 3.5 to 70. So, if any customer buy a high cost inapp purchases the LTV value changes drastically with in first few days of observation period. This creates a bias towards the Linear model and the in actual the data might be a polynomially related. Also, this model did not taken all the above specified variables into account as each customer is unique in order to cover the varience of the model."
   ]
  },
  {
   "cell_type": "code",
   "execution_count": null,
   "metadata": {
    "collapsed": true
   },
   "outputs": [],
   "source": []
  },
  {
   "cell_type": "code",
   "execution_count": null,
   "metadata": {
    "collapsed": true
   },
   "outputs": [],
   "source": []
  },
  {
   "cell_type": "markdown",
   "metadata": {},
   "source": [
    "3) Why might it be important to have an estimate of a user's LTV?"
   ]
  },
  {
   "cell_type": "markdown",
   "metadata": {},
   "source": [
    "It is important to classify the customers based on the LTV as it gives the marketing people on how much budget can be spent on which customers for placing the advertisements in social media.\n",
    "\n",
    "Also, to improve the revenue model by optimizing the inapp purchase such that it will be a win-win situation for both the customers and the company."
   ]
  },
  {
   "cell_type": "code",
   "execution_count": null,
   "metadata": {
    "collapsed": true
   },
   "outputs": [],
   "source": []
  },
  {
   "cell_type": "code",
   "execution_count": null,
   "metadata": {
    "collapsed": true
   },
   "outputs": [],
   "source": []
  },
  {
   "cell_type": "markdown",
   "metadata": {},
   "source": [
    "4) How might the LTV of new users change as the game spends more time in the market?"
   ]
  },
  {
   "cell_type": "markdown",
   "metadata": {},
   "source": [
    "For new users (means as they install the game after June 1st week) their LTV is somewhat lesser than that of the existing users as LTV is the cumulative sum of all purchases.\n",
    "\n",
    "As the game spends more time in the market, the LTV of new users will increase but not as much as that of during the initial period of time. "
   ]
  },
  {
   "cell_type": "code",
   "execution_count": null,
   "metadata": {
    "collapsed": true
   },
   "outputs": [],
   "source": []
  },
  {
   "cell_type": "code",
   "execution_count": null,
   "metadata": {
    "collapsed": true
   },
   "outputs": [],
   "source": []
  },
  {
   "cell_type": "markdown",
   "metadata": {},
   "source": [
    "5) What additional data might you want to in order improve your estimates? How would you\n",
    "use it?"
   ]
  },
  {
   "cell_type": "markdown",
   "metadata": {},
   "source": [
    "Instead of just giving the daily_iaf_revenue we want the inapp purchase cost of each item and whether a customer has bought it or not. This will help us analyze to optimize the cost of it and help us in channelized marketing and we can learn a little bit more about that particular customer.\n",
    "\n",
    "We also need Gender, age, educational level, whether the person is active in social media or not, employment status  and urban or rural person as this covers the more categories of customers and helps in explaining the variance in the model."
   ]
  },
  {
   "cell_type": "code",
   "execution_count": null,
   "metadata": {
    "collapsed": true
   },
   "outputs": [],
   "source": []
  },
  {
   "cell_type": "code",
   "execution_count": null,
   "metadata": {
    "collapsed": true
   },
   "outputs": [],
   "source": []
  },
  {
   "cell_type": "markdown",
   "metadata": {},
   "source": [
    "6) Would you want to estimate this model for different groups of users rather than using all\n",
    "user data together for your estimate? If so, which groups of users would you want to\n",
    "model separately?"
   ]
  },
  {
   "cell_type": "markdown",
   "metadata": {},
   "source": [
    "I have just modeled the data differently on differnt type of customer spending level(2). But I have to do the same thing with both the gamer_level(3) and Cust_spend(2), a total of six different models. This will fit the linear regression for different types of customers with lesser Mean Square Error and more R2 value."
   ]
  },
  {
   "cell_type": "code",
   "execution_count": null,
   "metadata": {
    "collapsed": true
   },
   "outputs": [],
   "source": []
  },
  {
   "cell_type": "code",
   "execution_count": null,
   "metadata": {
    "collapsed": true
   },
   "outputs": [],
   "source": []
  },
  {
   "cell_type": "code",
   "execution_count": null,
   "metadata": {
    "collapsed": true
   },
   "outputs": [],
   "source": []
  },
  {
   "cell_type": "markdown",
   "metadata": {},
   "source": [
    "# Python code:"
   ]
  },
  {
   "cell_type": "code",
   "execution_count": 365,
   "metadata": {
    "collapsed": true
   },
   "outputs": [],
   "source": [
    "import pandas as pd\n",
    "import numpy as np\n",
    "import matplotlib.pyplot as plt\n",
    "from sklearn import preprocessing\n",
    "from keras.models import Sequential\n",
    "from keras.layers import Dense\n",
    "from keras.wrappers.scikit_learn import KerasRegressor\n",
    "from sklearn.model_selection import cross_val_score\n",
    "from sklearn.model_selection import KFold\n",
    "from sklearn.preprocessing import StandardScaler\n",
    "from sklearn.pipeline import Pipeline\n",
    "import seaborn as sns\n",
    "import time"
   ]
  },
  {
   "cell_type": "markdown",
   "metadata": {},
   "source": [
    "# Purchases file"
   ]
  },
  {
   "cell_type": "code",
   "execution_count": 371,
   "metadata": {
    "collapsed": true
   },
   "outputs": [],
   "source": [
    "dfp = pd.read_csv(\"Purchases.csv\")"
   ]
  },
  {
   "cell_type": "code",
   "execution_count": 372,
   "metadata": {},
   "outputs": [
    {
     "data": {
      "text/html": [
       "<div>\n",
       "<style scoped>\n",
       "    .dataframe tbody tr th:only-of-type {\n",
       "        vertical-align: middle;\n",
       "    }\n",
       "\n",
       "    .dataframe tbody tr th {\n",
       "        vertical-align: top;\n",
       "    }\n",
       "\n",
       "    .dataframe thead th {\n",
       "        text-align: right;\n",
       "    }\n",
       "</style>\n",
       "<table border=\"1\" class=\"dataframe\">\n",
       "  <thead>\n",
       "    <tr style=\"text-align: right;\">\n",
       "      <th></th>\n",
       "      <th>udid</th>\n",
       "      <th>date</th>\n",
       "      <th>daily_iap_rev</th>\n",
       "      <th>purchases_made</th>\n",
       "    </tr>\n",
       "  </thead>\n",
       "  <tbody>\n",
       "    <tr>\n",
       "      <th>0</th>\n",
       "      <td>44080da2aaa54b95ae96327e3649b651</td>\n",
       "      <td>6/8/2015</td>\n",
       "      <td>3.5</td>\n",
       "      <td>1</td>\n",
       "    </tr>\n",
       "    <tr>\n",
       "      <th>1</th>\n",
       "      <td>6593f2ec3f6848afa1177198a7cf29b6</td>\n",
       "      <td>6/15/2015</td>\n",
       "      <td>14.0</td>\n",
       "      <td>1</td>\n",
       "    </tr>\n",
       "    <tr>\n",
       "      <th>2</th>\n",
       "      <td>7468b1857ea848b1aa6fece800193e52</td>\n",
       "      <td>7/13/2015</td>\n",
       "      <td>70.0</td>\n",
       "      <td>1</td>\n",
       "    </tr>\n",
       "    <tr>\n",
       "      <th>3</th>\n",
       "      <td>bf57de635791447eb630a998e8251a4a</td>\n",
       "      <td>8/25/2015</td>\n",
       "      <td>70.0</td>\n",
       "      <td>1</td>\n",
       "    </tr>\n",
       "    <tr>\n",
       "      <th>4</th>\n",
       "      <td>516a4481f08f4022ae98945281d5c00b</td>\n",
       "      <td>6/6/2015</td>\n",
       "      <td>3.5</td>\n",
       "      <td>1</td>\n",
       "    </tr>\n",
       "  </tbody>\n",
       "</table>\n",
       "</div>"
      ],
      "text/plain": [
       "                               udid       date  daily_iap_rev  purchases_made\n",
       "0  44080da2aaa54b95ae96327e3649b651   6/8/2015            3.5               1\n",
       "1  6593f2ec3f6848afa1177198a7cf29b6  6/15/2015           14.0               1\n",
       "2  7468b1857ea848b1aa6fece800193e52  7/13/2015           70.0               1\n",
       "3  bf57de635791447eb630a998e8251a4a  8/25/2015           70.0               1\n",
       "4  516a4481f08f4022ae98945281d5c00b   6/6/2015            3.5               1"
      ]
     },
     "execution_count": 372,
     "metadata": {},
     "output_type": "execute_result"
    }
   ],
   "source": [
    "dfp.head()"
   ]
  },
  {
   "cell_type": "code",
   "execution_count": 373,
   "metadata": {
    "collapsed": true
   },
   "outputs": [],
   "source": [
    "dfp[\"date\"] = pd.to_datetime(dfp[\"date\"])"
   ]
  },
  {
   "cell_type": "code",
   "execution_count": 374,
   "metadata": {},
   "outputs": [
    {
     "data": {
      "text/plain": [
       "udid              0\n",
       "date              0\n",
       "daily_iap_rev     0\n",
       "purchases_made    0\n",
       "dtype: int64"
      ]
     },
     "execution_count": 374,
     "metadata": {},
     "output_type": "execute_result"
    }
   ],
   "source": [
    "dfp.isnull().sum()"
   ]
  },
  {
   "cell_type": "markdown",
   "metadata": {},
   "source": [
    "So, we do not have any missing values in our Purchases file"
   ]
  },
  {
   "cell_type": "code",
   "execution_count": 376,
   "metadata": {},
   "outputs": [
    {
     "data": {
      "text/plain": [
       "(5604, 4)"
      ]
     },
     "execution_count": 376,
     "metadata": {},
     "output_type": "execute_result"
    }
   ],
   "source": [
    "dfp.shape# our original Purchases file has purchases ranges from June to December but our observation period is from \n",
    "#June-August. So, deleted around 2000 observations from September to December"
   ]
  },
  {
   "cell_type": "code",
   "execution_count": 54,
   "metadata": {},
   "outputs": [
    {
     "name": "stdout",
     "output_type": "stream",
     "text": [
      "The  range of number of purchases made by a customer in a day is from 1 to 21\n"
     ]
    }
   ],
   "source": [
    "print(\"The  range of number of purchases made by a customer in a day is \" +\n",
    "      \"from {} to {}\".format(dfp[\"purchases_made\"].min(),dfp[\"purchases_made\"].max()))\n",
    "          \n",
    "      "
   ]
  },
  {
   "cell_type": "code",
   "execution_count": 37,
   "metadata": {},
   "outputs": [
    {
     "name": "stdout",
     "output_type": "stream",
     "text": [
      "The  range of revenue from a customer in a day is from 3.5 to 1330.0\n"
     ]
    }
   ],
   "source": [
    "print(\"The  range of revenue from a customer in a day is \" +\n",
    "      \"from {} to {}\".format(dfp[\"daily_iap_rev\"].min(),dfp[\"daily_iap_rev\"].max()))\n",
    "      "
   ]
  },
  {
   "cell_type": "code",
   "execution_count": 377,
   "metadata": {},
   "outputs": [
    {
     "data": {
      "text/plain": [
       "1330.0"
      ]
     },
     "execution_count": 377,
     "metadata": {},
     "output_type": "execute_result"
    }
   ],
   "source": [
    "dfp[\"daily_iap_rev\"].max()"
   ]
  },
  {
   "cell_type": "code",
   "execution_count": 378,
   "metadata": {
    "collapsed": true
   },
   "outputs": [],
   "source": [
    "sns.set_style(\"darkgrid\")"
   ]
  },
  {
   "cell_type": "code",
   "execution_count": 379,
   "metadata": {},
   "outputs": [
    {
     "data": {
      "image/png": "[encoded data removed]",
      "text/plain": [
       "<matplotlib.figure.Figure at 0x1b5a01439b0>"
      ]
     },
     "metadata": {},
     "output_type": "display_data"
    }
   ],
   "source": [
    "\n",
    "plt.hist(dfp[\"daily_iap_rev\"], bins = 40, range = (dfp[\"daily_iap_rev\"].min(), dfp[\"daily_iap_rev\"].max()))\n",
    "plt.show()"
   ]
  },
  {
   "cell_type": "markdown",
   "metadata": {},
   "source": [
    "The distribution is right skewed it is better to go for Logarithmic transform but that makes our model complicated."
   ]
  },
  {
   "cell_type": "markdown",
   "metadata": {},
   "source": [
    "Let us check the price ranges of our in app purchases( maximum price of a purchase and minimum price of a purchase that can be \n",
    "done in our app). This can be done by subsetting the purchases made to be 1 and finding the range within that."
   ]
  },
  {
   "cell_type": "code",
   "execution_count": 380,
   "metadata": {},
   "outputs": [
    {
     "data": {
      "text/plain": [
       "array([ 3.5,  7. , 14. , 28. , 35. , 70. ])"
      ]
     },
     "execution_count": 380,
     "metadata": {},
     "output_type": "execute_result"
    }
   ],
   "source": [
    "np.sort(dfp[dfp[\"purchases_made\"]==1][\"daily_iap_rev\"].unique())"
   ]
  },
  {
   "cell_type": "markdown",
   "metadata": {},
   "source": [
    "So we can deduce that each inapp purchase ranges from 3.5 to 70. "
   ]
  },
  {
   "cell_type": "code",
   "execution_count": 84,
   "metadata": {},
   "outputs": [
    {
     "data": {
      "image/png": "[encoded data removed]",
      "text/plain": [
       "<matplotlib.figure.Figure at 0x1a8e31b0550>"
      ]
     },
     "metadata": {},
     "output_type": "display_data"
    }
   ],
   "source": [
    "plt.hist(dfp[\"purchases_made\"], bins = 10, range = (dfp[\"purchases_made\"].min(), dfp[\"purchases_made\"].max()))\n",
    "plt.show()"
   ]
  },
  {
   "cell_type": "markdown",
   "metadata": {},
   "source": [
    "We observe a similar pattern like that of \"daily_iap_rev\" as  this plot is Right skewed."
   ]
  },
  {
   "cell_type": "markdown",
   "metadata": {},
   "source": [
    "Let us group the customer purchase activity by Unique id"
   ]
  },
  {
   "cell_type": "code",
   "execution_count": 382,
   "metadata": {},
   "outputs": [],
   "source": [
    "dfp.gb = dfp.groupby(\"udid\")"
   ]
  },
  {
   "cell_type": "code",
   "execution_count": 384,
   "metadata": {},
   "outputs": [],
   "source": [
    "dfp.longtermvalue = dfp.gb[\"daily_iap_rev\"].sum()"
   ]
  },
  {
   "cell_type": "code",
   "execution_count": 385,
   "metadata": {},
   "outputs": [
    {
     "data": {
      "text/plain": [
       "udid\n",
       "0020f5c05795400bb2868009cf4b2080    682.5\n",
       "002b934415cb4ae78579f3be87a6283d     17.5\n",
       "004f2f923b8f47a6b9f91fa5c61095de      3.5\n",
       "00776d802fef4a26b525aed437af4728      3.5\n",
       "008808b510244c9b957adbf27dd8c748      3.5\n",
       "Name: daily_iap_rev, dtype: float64"
      ]
     },
     "execution_count": 385,
     "metadata": {},
     "output_type": "execute_result"
    }
   ],
   "source": [
    "dfp.longtermvalue.head()"
   ]
  },
  {
   "cell_type": "code",
   "execution_count": 387,
   "metadata": {},
   "outputs": [],
   "source": [
    "dfp.firstdate_of_purchase = dfp.gb[\"date\"].min()"
   ]
  },
  {
   "cell_type": "code",
   "execution_count": 389,
   "metadata": {},
   "outputs": [],
   "source": [
    "dfp.lastdate_of_purchase = dfp.gb[\"date\"].max()"
   ]
  },
  {
   "cell_type": "code",
   "execution_count": 390,
   "metadata": {},
   "outputs": [
    {
     "data": {
      "text/plain": [
       "udid\n",
       "0020f5c05795400bb2868009cf4b2080   2015-08-02\n",
       "002b934415cb4ae78579f3be87a6283d   2015-06-23\n",
       "004f2f923b8f47a6b9f91fa5c61095de   2015-06-10\n",
       "00776d802fef4a26b525aed437af4728   2015-06-06\n",
       "008808b510244c9b957adbf27dd8c748   2015-06-07\n",
       "Name: date, dtype: datetime64[ns]"
      ]
     },
     "execution_count": 390,
     "metadata": {},
     "output_type": "execute_result"
    }
   ],
   "source": [
    "dfp.lastdate_of_purchase.head()"
   ]
  },
  {
   "cell_type": "code",
   "execution_count": 391,
   "metadata": {},
   "outputs": [
    {
     "data": {
      "text/plain": [
       "udid\n",
       "0020f5c05795400bb2868009cf4b2080   2015-06-01\n",
       "002b934415cb4ae78579f3be87a6283d   2015-06-06\n",
       "004f2f923b8f47a6b9f91fa5c61095de   2015-06-10\n",
       "00776d802fef4a26b525aed437af4728   2015-06-06\n",
       "008808b510244c9b957adbf27dd8c748   2015-06-07\n",
       "Name: date, dtype: datetime64[ns]"
      ]
     },
     "execution_count": 391,
     "metadata": {},
     "output_type": "execute_result"
    }
   ],
   "source": [
    "dfp.firstdate_of_purchase.head()"
   ]
  },
  {
   "cell_type": "code",
   "execution_count": 393,
   "metadata": {},
   "outputs": [
    {
     "data": {
      "text/plain": [
       "udid\n",
       "0020f5c05795400bb2868009cf4b2080   62 days\n",
       "002b934415cb4ae78579f3be87a6283d   17 days\n",
       "004f2f923b8f47a6b9f91fa5c61095de    0 days\n",
       "00776d802fef4a26b525aed437af4728    0 days\n",
       "008808b510244c9b957adbf27dd8c748    0 days\n",
       "Name: date, dtype: timedelta64[ns]"
      ]
     },
     "execution_count": 393,
     "metadata": {},
     "output_type": "execute_result"
    }
   ],
   "source": [
    "dfp.purchase_duration = pd.to_datetime(dfp.lastdate_of_purchase) - pd.to_datetime(dfp.firstdate_of_purchase) \n",
    "dfp.purchase_duration.head()"
   ]
  },
  {
   "cell_type": "code",
   "execution_count": 395,
   "metadata": {},
   "outputs": [],
   "source": [
    "dfp.total_purchases_made = dfp.gb[\"purchases_made\"].sum()"
   ]
  },
  {
   "cell_type": "code",
   "execution_count": 396,
   "metadata": {},
   "outputs": [
    {
     "data": {
      "text/plain": [
       "pandas.core.series.Series"
      ]
     },
     "execution_count": 396,
     "metadata": {},
     "output_type": "execute_result"
    }
   ],
   "source": [
    "type(dfp.total_purchases_made)"
   ]
  },
  {
   "cell_type": "code",
   "execution_count": 397,
   "metadata": {
    "collapsed": true
   },
   "outputs": [],
   "source": [
    "df_modified_Purchases = pd.DataFrame(dfp.longtermvalue.index,                                               \n",
    "                                     columns = [\"udid\"],\n",
    "                                     index = dfp.longtermvalue.index)"
   ]
  },
  {
   "cell_type": "code",
   "execution_count": 398,
   "metadata": {
    "collapsed": true
   },
   "outputs": [],
   "source": [
    "\n",
    "df_modified_Purchases[\"firstdate_of_purchase\"] = dfp.firstdate_of_purchase\n",
    "df_modified_Purchases[\"lastdate_of_purchase\"] = dfp.lastdate_of_purchase\n",
    "df_modified_Purchases[\"purchase_duration\"] = dfp.purchase_duration\n",
    "df_modified_Purchases[\"total_purchases_made\"] = dfp.total_purchases_made\n",
    "df_modified_Purchases[\"Long term Value\"] = dfp.longtermvalue\n",
    "\n",
    "\n"
   ]
  },
  {
   "cell_type": "code",
   "execution_count": 399,
   "metadata": {
    "collapsed": true
   },
   "outputs": [],
   "source": [
    "df_modified_Purchases[\"purchase_duration\"] = df_modified_Purchases[\"purchase_duration\"]"
   ]
  },
  {
   "cell_type": "code",
   "execution_count": 400,
   "metadata": {},
   "outputs": [
    {
     "data": {
      "text/html": [
       "<div>\n",
       "<style scoped>\n",
       "    .dataframe tbody tr th:only-of-type {\n",
       "        vertical-align: middle;\n",
       "    }\n",
       "\n",
       "    .dataframe tbody tr th {\n",
       "        vertical-align: top;\n",
       "    }\n",
       "\n",
       "    .dataframe thead th {\n",
       "        text-align: right;\n",
       "    }\n",
       "</style>\n",
       "<table border=\"1\" class=\"dataframe\">\n",
       "  <thead>\n",
       "    <tr style=\"text-align: right;\">\n",
       "      <th></th>\n",
       "      <th>udid</th>\n",
       "      <th>firstdate_of_purchase</th>\n",
       "      <th>lastdate_of_purchase</th>\n",
       "      <th>purchase_duration</th>\n",
       "      <th>total_purchases_made</th>\n",
       "      <th>Long term Value</th>\n",
       "    </tr>\n",
       "    <tr>\n",
       "      <th>udid</th>\n",
       "      <th></th>\n",
       "      <th></th>\n",
       "      <th></th>\n",
       "      <th></th>\n",
       "      <th></th>\n",
       "      <th></th>\n",
       "    </tr>\n",
       "  </thead>\n",
       "  <tbody>\n",
       "    <tr>\n",
       "      <th>0020f5c05795400bb2868009cf4b2080</th>\n",
       "      <td>0020f5c05795400bb2868009cf4b2080</td>\n",
       "      <td>2015-06-01</td>\n",
       "      <td>2015-08-02</td>\n",
       "      <td>62 days</td>\n",
       "      <td>12</td>\n",
       "      <td>682.5</td>\n",
       "    </tr>\n",
       "    <tr>\n",
       "      <th>002b934415cb4ae78579f3be87a6283d</th>\n",
       "      <td>002b934415cb4ae78579f3be87a6283d</td>\n",
       "      <td>2015-06-06</td>\n",
       "      <td>2015-06-23</td>\n",
       "      <td>17 days</td>\n",
       "      <td>2</td>\n",
       "      <td>17.5</td>\n",
       "    </tr>\n",
       "    <tr>\n",
       "      <th>004f2f923b8f47a6b9f91fa5c61095de</th>\n",
       "      <td>004f2f923b8f47a6b9f91fa5c61095de</td>\n",
       "      <td>2015-06-10</td>\n",
       "      <td>2015-06-10</td>\n",
       "      <td>0 days</td>\n",
       "      <td>1</td>\n",
       "      <td>3.5</td>\n",
       "    </tr>\n",
       "    <tr>\n",
       "      <th>00776d802fef4a26b525aed437af4728</th>\n",
       "      <td>00776d802fef4a26b525aed437af4728</td>\n",
       "      <td>2015-06-06</td>\n",
       "      <td>2015-06-06</td>\n",
       "      <td>0 days</td>\n",
       "      <td>1</td>\n",
       "      <td>3.5</td>\n",
       "    </tr>\n",
       "    <tr>\n",
       "      <th>008808b510244c9b957adbf27dd8c748</th>\n",
       "      <td>008808b510244c9b957adbf27dd8c748</td>\n",
       "      <td>2015-06-07</td>\n",
       "      <td>2015-06-07</td>\n",
       "      <td>0 days</td>\n",
       "      <td>1</td>\n",
       "      <td>3.5</td>\n",
       "    </tr>\n",
       "  </tbody>\n",
       "</table>\n",
       "</div>"
      ],
      "text/plain": [
       "                                                              udid  \\\n",
       "udid                                                                 \n",
       "0020f5c05795400bb2868009cf4b2080  0020f5c05795400bb2868009cf4b2080   \n",
       "002b934415cb4ae78579f3be87a6283d  002b934415cb4ae78579f3be87a6283d   \n",
       "004f2f923b8f47a6b9f91fa5c61095de  004f2f923b8f47a6b9f91fa5c61095de   \n",
       "00776d802fef4a26b525aed437af4728  00776d802fef4a26b525aed437af4728   \n",
       "008808b510244c9b957adbf27dd8c748  008808b510244c9b957adbf27dd8c748   \n",
       "\n",
       "                                 firstdate_of_purchase lastdate_of_purchase  \\\n",
       "udid                                                                          \n",
       "0020f5c05795400bb2868009cf4b2080            2015-06-01           2015-08-02   \n",
       "002b934415cb4ae78579f3be87a6283d            2015-06-06           2015-06-23   \n",
       "004f2f923b8f47a6b9f91fa5c61095de            2015-06-10           2015-06-10   \n",
       "00776d802fef4a26b525aed437af4728            2015-06-06           2015-06-06   \n",
       "008808b510244c9b957adbf27dd8c748            2015-06-07           2015-06-07   \n",
       "\n",
       "                                 purchase_duration  total_purchases_made  \\\n",
       "udid                                                                       \n",
       "0020f5c05795400bb2868009cf4b2080           62 days                    12   \n",
       "002b934415cb4ae78579f3be87a6283d           17 days                     2   \n",
       "004f2f923b8f47a6b9f91fa5c61095de            0 days                     1   \n",
       "00776d802fef4a26b525aed437af4728            0 days                     1   \n",
       "008808b510244c9b957adbf27dd8c748            0 days                     1   \n",
       "\n",
       "                                  Long term Value  \n",
       "udid                                               \n",
       "0020f5c05795400bb2868009cf4b2080            682.5  \n",
       "002b934415cb4ae78579f3be87a6283d             17.5  \n",
       "004f2f923b8f47a6b9f91fa5c61095de              3.5  \n",
       "00776d802fef4a26b525aed437af4728              3.5  \n",
       "008808b510244c9b957adbf27dd8c748              3.5  "
      ]
     },
     "execution_count": 400,
     "metadata": {},
     "output_type": "execute_result"
    }
   ],
   "source": [
    "dfm = df_modified_Purchases.loc[:,[ \"purchase_duration\", \"total_purchases_made\",\"Long term Value\"]]\n",
    "df_modified_Purchases.head()\n"
   ]
  },
  {
   "cell_type": "code",
   "execution_count": 401,
   "metadata": {},
   "outputs": [
    {
     "data": {
      "text/plain": [
       "(2108, 3)"
      ]
     },
     "execution_count": 401,
     "metadata": {},
     "output_type": "execute_result"
    }
   ],
   "source": [
    "dfm.shape"
   ]
  },
  {
   "cell_type": "code",
   "execution_count": 402,
   "metadata": {},
   "outputs": [],
   "source": [
    "df_modified_Purchases.to_csv(\"purchases_modified.csv\")"
   ]
  },
  {
   "cell_type": "code",
   "execution_count": 403,
   "metadata": {},
   "outputs": [],
   "source": [
    "#Converting the time into float( number of days)\n",
    "string_splitter = lambda x:x/np.timedelta64(1, 'D')\n",
    "\n",
    "dfm[\"purchase_duration\"] = dfm[\"purchase_duration\"].apply(string_splitter) \n"
   ]
  },
  {
   "cell_type": "code",
   "execution_count": 404,
   "metadata": {},
   "outputs": [],
   "source": [
    "dfm[\"purchase_duration\"] =  dfm[\"purchase_duration\"] +1\n",
    "#Because of error correction as max date - min date +1 to get the number of days between the purchase duration"
   ]
  },
  {
   "cell_type": "code",
   "execution_count": 406,
   "metadata": {},
   "outputs": [
    {
     "data": {
      "text/html": [
       "<div>\n",
       "<style scoped>\n",
       "    .dataframe tbody tr th:only-of-type {\n",
       "        vertical-align: middle;\n",
       "    }\n",
       "\n",
       "    .dataframe tbody tr th {\n",
       "        vertical-align: top;\n",
       "    }\n",
       "\n",
       "    .dataframe thead th {\n",
       "        text-align: right;\n",
       "    }\n",
       "</style>\n",
       "<table border=\"1\" class=\"dataframe\">\n",
       "  <thead>\n",
       "    <tr style=\"text-align: right;\">\n",
       "      <th></th>\n",
       "      <th>purchase_duration</th>\n",
       "      <th>total_purchases_made</th>\n",
       "      <th>Long term Value</th>\n",
       "    </tr>\n",
       "    <tr>\n",
       "      <th>udid</th>\n",
       "      <th></th>\n",
       "      <th></th>\n",
       "      <th></th>\n",
       "    </tr>\n",
       "  </thead>\n",
       "  <tbody>\n",
       "    <tr>\n",
       "      <th>0020f5c05795400bb2868009cf4b2080</th>\n",
       "      <td>63.0</td>\n",
       "      <td>12</td>\n",
       "      <td>682.5</td>\n",
       "    </tr>\n",
       "    <tr>\n",
       "      <th>002b934415cb4ae78579f3be87a6283d</th>\n",
       "      <td>18.0</td>\n",
       "      <td>2</td>\n",
       "      <td>17.5</td>\n",
       "    </tr>\n",
       "    <tr>\n",
       "      <th>004f2f923b8f47a6b9f91fa5c61095de</th>\n",
       "      <td>1.0</td>\n",
       "      <td>1</td>\n",
       "      <td>3.5</td>\n",
       "    </tr>\n",
       "    <tr>\n",
       "      <th>00776d802fef4a26b525aed437af4728</th>\n",
       "      <td>1.0</td>\n",
       "      <td>1</td>\n",
       "      <td>3.5</td>\n",
       "    </tr>\n",
       "    <tr>\n",
       "      <th>008808b510244c9b957adbf27dd8c748</th>\n",
       "      <td>1.0</td>\n",
       "      <td>1</td>\n",
       "      <td>3.5</td>\n",
       "    </tr>\n",
       "  </tbody>\n",
       "</table>\n",
       "</div>"
      ],
      "text/plain": [
       "                                  purchase_duration  total_purchases_made  \\\n",
       "udid                                                                        \n",
       "0020f5c05795400bb2868009cf4b2080               63.0                    12   \n",
       "002b934415cb4ae78579f3be87a6283d               18.0                     2   \n",
       "004f2f923b8f47a6b9f91fa5c61095de                1.0                     1   \n",
       "00776d802fef4a26b525aed437af4728                1.0                     1   \n",
       "008808b510244c9b957adbf27dd8c748                1.0                     1   \n",
       "\n",
       "                                  Long term Value  \n",
       "udid                                               \n",
       "0020f5c05795400bb2868009cf4b2080            682.5  \n",
       "002b934415cb4ae78579f3be87a6283d             17.5  \n",
       "004f2f923b8f47a6b9f91fa5c61095de              3.5  \n",
       "00776d802fef4a26b525aed437af4728              3.5  \n",
       "008808b510244c9b957adbf27dd8c748              3.5  "
      ]
     },
     "execution_count": 406,
     "metadata": {},
     "output_type": "execute_result"
    }
   ],
   "source": [
    "dfm.head()"
   ]
  },
  {
   "cell_type": "code",
   "execution_count": 407,
   "metadata": {},
   "outputs": [
    {
     "data": {
      "image/png": "[encoded data removed]",
      "text/plain": [
       "<matplotlib.figure.Figure at 0x1b5f132b978>"
      ]
     },
     "metadata": {},
     "output_type": "display_data"
    }
   ],
   "source": [
    "ax = sns.pairplot(data=dfm)\n",
    "plt.show()"
   ]
  },
  {
   "cell_type": "markdown",
   "metadata": {},
   "source": [
    "From the above plots we can say that all the histograms are Right skewed. So, customers duration of purchase or Longterm value or total purchases can be divided into 2 groups namely More spending customers and less spending customers. Also, there is linear relation between purchase_duration and total_purchases_made. Let's look close in to the customers Longterm value.\n"
   ]
  },
  {
   "cell_type": "code",
   "execution_count": 408,
   "metadata": {},
   "outputs": [
    {
     "data": {
      "image/png": "[encoded data removed]",
      "text/plain": [
       "<matplotlib.figure.Figure at 0x1b59fffd4a8>"
      ]
     },
     "metadata": {},
     "output_type": "display_data"
    }
   ],
   "source": [
    "sns.distplot(dfm[\"Long term Value\"],bins=20)\n",
    "plt.show()"
   ]
  },
  {
   "cell_type": "markdown",
   "metadata": {},
   "source": [
    "We can divide the customers at the total long term value of 750"
   ]
  },
  {
   "cell_type": "code",
   "execution_count": 410,
   "metadata": {
    "collapsed": true
   },
   "outputs": [],
   "source": [
    "dfm[\"Cust_Spend\"] = \"High\"\n",
    "dfm.loc[dfm[\"Long term Value\"] < 750, \"Cust_Spend\"] = \"Low\""
   ]
  },
  {
   "cell_type": "code",
   "execution_count": 411,
   "metadata": {},
   "outputs": [
    {
     "data": {
      "text/html": [
       "<div>\n",
       "<style scoped>\n",
       "    .dataframe tbody tr th:only-of-type {\n",
       "        vertical-align: middle;\n",
       "    }\n",
       "\n",
       "    .dataframe tbody tr th {\n",
       "        vertical-align: top;\n",
       "    }\n",
       "\n",
       "    .dataframe thead th {\n",
       "        text-align: right;\n",
       "    }\n",
       "</style>\n",
       "<table border=\"1\" class=\"dataframe\">\n",
       "  <thead>\n",
       "    <tr style=\"text-align: right;\">\n",
       "      <th></th>\n",
       "      <th>purchase_duration</th>\n",
       "      <th>total_purchases_made</th>\n",
       "      <th>Long term Value</th>\n",
       "      <th>Cust_Spend</th>\n",
       "    </tr>\n",
       "    <tr>\n",
       "      <th>udid</th>\n",
       "      <th></th>\n",
       "      <th></th>\n",
       "      <th></th>\n",
       "      <th></th>\n",
       "    </tr>\n",
       "  </thead>\n",
       "  <tbody>\n",
       "    <tr>\n",
       "      <th>0020f5c05795400bb2868009cf4b2080</th>\n",
       "      <td>63.0</td>\n",
       "      <td>12</td>\n",
       "      <td>682.5</td>\n",
       "      <td>Low</td>\n",
       "    </tr>\n",
       "    <tr>\n",
       "      <th>002b934415cb4ae78579f3be87a6283d</th>\n",
       "      <td>18.0</td>\n",
       "      <td>2</td>\n",
       "      <td>17.5</td>\n",
       "      <td>Low</td>\n",
       "    </tr>\n",
       "    <tr>\n",
       "      <th>004f2f923b8f47a6b9f91fa5c61095de</th>\n",
       "      <td>1.0</td>\n",
       "      <td>1</td>\n",
       "      <td>3.5</td>\n",
       "      <td>Low</td>\n",
       "    </tr>\n",
       "    <tr>\n",
       "      <th>00776d802fef4a26b525aed437af4728</th>\n",
       "      <td>1.0</td>\n",
       "      <td>1</td>\n",
       "      <td>3.5</td>\n",
       "      <td>Low</td>\n",
       "    </tr>\n",
       "    <tr>\n",
       "      <th>008808b510244c9b957adbf27dd8c748</th>\n",
       "      <td>1.0</td>\n",
       "      <td>1</td>\n",
       "      <td>3.5</td>\n",
       "      <td>Low</td>\n",
       "    </tr>\n",
       "  </tbody>\n",
       "</table>\n",
       "</div>"
      ],
      "text/plain": [
       "                                  purchase_duration  total_purchases_made  \\\n",
       "udid                                                                        \n",
       "0020f5c05795400bb2868009cf4b2080               63.0                    12   \n",
       "002b934415cb4ae78579f3be87a6283d               18.0                     2   \n",
       "004f2f923b8f47a6b9f91fa5c61095de                1.0                     1   \n",
       "00776d802fef4a26b525aed437af4728                1.0                     1   \n",
       "008808b510244c9b957adbf27dd8c748                1.0                     1   \n",
       "\n",
       "                                  Long term Value Cust_Spend  \n",
       "udid                                                          \n",
       "0020f5c05795400bb2868009cf4b2080            682.5        Low  \n",
       "002b934415cb4ae78579f3be87a6283d             17.5        Low  \n",
       "004f2f923b8f47a6b9f91fa5c61095de              3.5        Low  \n",
       "00776d802fef4a26b525aed437af4728              3.5        Low  \n",
       "008808b510244c9b957adbf27dd8c748              3.5        Low  "
      ]
     },
     "execution_count": 411,
     "metadata": {},
     "output_type": "execute_result"
    }
   ],
   "source": [
    "dfm.head()"
   ]
  },
  {
   "cell_type": "markdown",
   "metadata": {},
   "source": [
    "Also we can categorize the customers as customers who are not intersted in buying the higher cost inapp purchases by looking at total_purchases_made and Long term Value scatter plot.\n",
    "\n",
    "As the customers whose Long term Value is more and total_purchases_made is less are not interested in buying the higher cost inapp purchases."
   ]
  },
  {
   "cell_type": "code",
   "execution_count": 413,
   "metadata": {},
   "outputs": [
    {
     "name": "stderr",
     "output_type": "stream",
     "text": [
      "C:\\Users\\jeeva\\Anaconda3\\envs\\py35\\lib\\site-packages\\seaborn\\categorical.py:1460: FutureWarning: remove_na is deprecated and is a private function. Do not use.\n",
      "  stat_data = remove_na(group_data)\n"
     ]
    },
    {
     "data": {
      "image/png": "[encoded data removed]",
      "text/plain": [
       "<matplotlib.figure.Figure at 0x1b5ef3d26d8>"
      ]
     },
     "metadata": {},
     "output_type": "display_data"
    }
   ],
   "source": [
    "sns.countplot(x=\"Cust_Spend\", data = dfm)\n",
    "plt.show()"
   ]
  },
  {
   "cell_type": "markdown",
   "metadata": {},
   "source": [
    "We can see that only less number of customers are spending more than 750. So, we will model them separately."
   ]
  },
  {
   "cell_type": "markdown",
   "metadata": {},
   "source": [
    "Here I can say that purchase_duration is not observation period. The observation period is calculated from the sessions file. Because an user can play the game without making a purchase. So, lets jump into the Sessions file and extract the observation period."
   ]
  },
  {
   "cell_type": "code",
   "execution_count": 414,
   "metadata": {},
   "outputs": [
    {
     "data": {
      "text/html": [
       "<div>\n",
       "<style scoped>\n",
       "    .dataframe tbody tr th:only-of-type {\n",
       "        vertical-align: middle;\n",
       "    }\n",
       "\n",
       "    .dataframe tbody tr th {\n",
       "        vertical-align: top;\n",
       "    }\n",
       "\n",
       "    .dataframe thead th {\n",
       "        text-align: right;\n",
       "    }\n",
       "</style>\n",
       "<table border=\"1\" class=\"dataframe\">\n",
       "  <thead>\n",
       "    <tr style=\"text-align: right;\">\n",
       "      <th></th>\n",
       "      <th>purchase_duration</th>\n",
       "      <th>total_purchases_made</th>\n",
       "      <th>Long term Value</th>\n",
       "      <th>Cust_Spend</th>\n",
       "      <th>udid</th>\n",
       "    </tr>\n",
       "    <tr>\n",
       "      <th>udid</th>\n",
       "      <th></th>\n",
       "      <th></th>\n",
       "      <th></th>\n",
       "      <th></th>\n",
       "      <th></th>\n",
       "    </tr>\n",
       "  </thead>\n",
       "  <tbody>\n",
       "    <tr>\n",
       "      <th>0020f5c05795400bb2868009cf4b2080</th>\n",
       "      <td>63.0</td>\n",
       "      <td>12</td>\n",
       "      <td>682.5</td>\n",
       "      <td>Low</td>\n",
       "      <td>0020f5c05795400bb2868009cf4b2080</td>\n",
       "    </tr>\n",
       "    <tr>\n",
       "      <th>002b934415cb4ae78579f3be87a6283d</th>\n",
       "      <td>18.0</td>\n",
       "      <td>2</td>\n",
       "      <td>17.5</td>\n",
       "      <td>Low</td>\n",
       "      <td>002b934415cb4ae78579f3be87a6283d</td>\n",
       "    </tr>\n",
       "    <tr>\n",
       "      <th>004f2f923b8f47a6b9f91fa5c61095de</th>\n",
       "      <td>1.0</td>\n",
       "      <td>1</td>\n",
       "      <td>3.5</td>\n",
       "      <td>Low</td>\n",
       "      <td>004f2f923b8f47a6b9f91fa5c61095de</td>\n",
       "    </tr>\n",
       "    <tr>\n",
       "      <th>00776d802fef4a26b525aed437af4728</th>\n",
       "      <td>1.0</td>\n",
       "      <td>1</td>\n",
       "      <td>3.5</td>\n",
       "      <td>Low</td>\n",
       "      <td>00776d802fef4a26b525aed437af4728</td>\n",
       "    </tr>\n",
       "    <tr>\n",
       "      <th>008808b510244c9b957adbf27dd8c748</th>\n",
       "      <td>1.0</td>\n",
       "      <td>1</td>\n",
       "      <td>3.5</td>\n",
       "      <td>Low</td>\n",
       "      <td>008808b510244c9b957adbf27dd8c748</td>\n",
       "    </tr>\n",
       "  </tbody>\n",
       "</table>\n",
       "</div>"
      ],
      "text/plain": [
       "                                  purchase_duration  total_purchases_made  \\\n",
       "udid                                                                        \n",
       "0020f5c05795400bb2868009cf4b2080               63.0                    12   \n",
       "002b934415cb4ae78579f3be87a6283d               18.0                     2   \n",
       "004f2f923b8f47a6b9f91fa5c61095de                1.0                     1   \n",
       "00776d802fef4a26b525aed437af4728                1.0                     1   \n",
       "008808b510244c9b957adbf27dd8c748                1.0                     1   \n",
       "\n",
       "                                  Long term Value Cust_Spend  \\\n",
       "udid                                                           \n",
       "0020f5c05795400bb2868009cf4b2080            682.5        Low   \n",
       "002b934415cb4ae78579f3be87a6283d             17.5        Low   \n",
       "004f2f923b8f47a6b9f91fa5c61095de              3.5        Low   \n",
       "00776d802fef4a26b525aed437af4728              3.5        Low   \n",
       "008808b510244c9b957adbf27dd8c748              3.5        Low   \n",
       "\n",
       "                                                              udid  \n",
       "udid                                                                \n",
       "0020f5c05795400bb2868009cf4b2080  0020f5c05795400bb2868009cf4b2080  \n",
       "002b934415cb4ae78579f3be87a6283d  002b934415cb4ae78579f3be87a6283d  \n",
       "004f2f923b8f47a6b9f91fa5c61095de  004f2f923b8f47a6b9f91fa5c61095de  \n",
       "00776d802fef4a26b525aed437af4728  00776d802fef4a26b525aed437af4728  \n",
       "008808b510244c9b957adbf27dd8c748  008808b510244c9b957adbf27dd8c748  "
      ]
     },
     "execution_count": 414,
     "metadata": {},
     "output_type": "execute_result"
    }
   ],
   "source": [
    "dfm[\"udid\"] = df_modified_Purchases[\"udid\"]\n",
    "dfm.head()"
   ]
  },
  {
   "cell_type": "markdown",
   "metadata": {},
   "source": [
    "# Sessions file"
   ]
  },
  {
   "cell_type": "code",
   "execution_count": 415,
   "metadata": {
    "collapsed": true
   },
   "outputs": [],
   "source": [
    "dfs = pd.read_csv(\"Sessions.csv\")"
   ]
  },
  {
   "cell_type": "code",
   "execution_count": 416,
   "metadata": {},
   "outputs": [
    {
     "data": {
      "text/html": [
       "<div>\n",
       "<style scoped>\n",
       "    .dataframe tbody tr th:only-of-type {\n",
       "        vertical-align: middle;\n",
       "    }\n",
       "\n",
       "    .dataframe tbody tr th {\n",
       "        vertical-align: top;\n",
       "    }\n",
       "\n",
       "    .dataframe thead th {\n",
       "        text-align: right;\n",
       "    }\n",
       "</style>\n",
       "<table border=\"1\" class=\"dataframe\">\n",
       "  <thead>\n",
       "    <tr style=\"text-align: right;\">\n",
       "      <th></th>\n",
       "      <th>udid</th>\n",
       "      <th>date</th>\n",
       "      <th>level_reached</th>\n",
       "      <th>sessions_played</th>\n",
       "    </tr>\n",
       "  </thead>\n",
       "  <tbody>\n",
       "    <tr>\n",
       "      <th>0</th>\n",
       "      <td>d770a296cd6188e8729277645cf8e48183837135</td>\n",
       "      <td>6/1/2015</td>\n",
       "      <td>1</td>\n",
       "      <td>1</td>\n",
       "    </tr>\n",
       "    <tr>\n",
       "      <th>1</th>\n",
       "      <td>2e3f7322aeb54faeb8c507247c41a482</td>\n",
       "      <td>6/1/2015</td>\n",
       "      <td>1</td>\n",
       "      <td>4</td>\n",
       "    </tr>\n",
       "    <tr>\n",
       "      <th>2</th>\n",
       "      <td>0894b80dc99d4b09912cf9b0884201bb</td>\n",
       "      <td>6/1/2015</td>\n",
       "      <td>1</td>\n",
       "      <td>1</td>\n",
       "    </tr>\n",
       "    <tr>\n",
       "      <th>3</th>\n",
       "      <td>b1216a65232070a6787d0c531310148b36bf839b</td>\n",
       "      <td>6/1/2015</td>\n",
       "      <td>7</td>\n",
       "      <td>11</td>\n",
       "    </tr>\n",
       "    <tr>\n",
       "      <th>4</th>\n",
       "      <td>310af48b94db4d078332eb628b9578f3</td>\n",
       "      <td>6/1/2015</td>\n",
       "      <td>1</td>\n",
       "      <td>1</td>\n",
       "    </tr>\n",
       "  </tbody>\n",
       "</table>\n",
       "</div>"
      ],
      "text/plain": [
       "                                       udid      date  level_reached  \\\n",
       "0  d770a296cd6188e8729277645cf8e48183837135  6/1/2015              1   \n",
       "1          2e3f7322aeb54faeb8c507247c41a482  6/1/2015              1   \n",
       "2          0894b80dc99d4b09912cf9b0884201bb  6/1/2015              1   \n",
       "3  b1216a65232070a6787d0c531310148b36bf839b  6/1/2015              7   \n",
       "4          310af48b94db4d078332eb628b9578f3  6/1/2015              1   \n",
       "\n",
       "   sessions_played  \n",
       "0                1  \n",
       "1                4  \n",
       "2                1  \n",
       "3               11  \n",
       "4                1  "
      ]
     },
     "execution_count": 416,
     "metadata": {},
     "output_type": "execute_result"
    }
   ],
   "source": [
    "dfs.head()"
   ]
  },
  {
   "cell_type": "code",
   "execution_count": 71,
   "metadata": {},
   "outputs": [
    {
     "data": {
      "text/plain": [
       "(482776, 4)"
      ]
     },
     "execution_count": 71,
     "metadata": {},
     "output_type": "execute_result"
    }
   ],
   "source": [
    "dfs.shape"
   ]
  },
  {
   "cell_type": "code",
   "execution_count": 313,
   "metadata": {},
   "outputs": [
    {
     "data": {
      "text/plain": [
       "udid               0\n",
       "date               0\n",
       "level_reached      0\n",
       "sessions_played    0\n",
       "dtype: int64"
      ]
     },
     "execution_count": 313,
     "metadata": {},
     "output_type": "execute_result"
    }
   ],
   "source": [
    "dfs.isnull().sum()"
   ]
  },
  {
   "cell_type": "markdown",
   "metadata": {},
   "source": [
    "So, we do not have missing values in Sessions file"
   ]
  },
  {
   "cell_type": "code",
   "execution_count": 417,
   "metadata": {
    "collapsed": true
   },
   "outputs": [],
   "source": [
    "dfs[\"date\"] = pd.to_datetime(dfs[\"date\"])"
   ]
  },
  {
   "cell_type": "code",
   "execution_count": 419,
   "metadata": {},
   "outputs": [],
   "source": [
    "dfs.gb = dfs.groupby(\"udid\")"
   ]
  },
  {
   "cell_type": "code",
   "execution_count": 421,
   "metadata": {},
   "outputs": [],
   "source": [
    "dfs.playing_duration = dfs.gb[\"date\"].max() - dfs.gb[\"date\"].min()"
   ]
  },
  {
   "cell_type": "code",
   "execution_count": 423,
   "metadata": {},
   "outputs": [],
   "source": [
    "dfs.newnwss = dfs.gb[\"date\"].min()"
   ]
  },
  {
   "cell_type": "code",
   "execution_count": 424,
   "metadata": {},
   "outputs": [
    {
     "data": {
      "text/plain": [
       "udid\n",
       "0000bdcfa90d496ea661a8d336308dbd    0 days\n",
       "000223b517e041539d1a5042c81e9111    0 days\n",
       "00031efa0eb841fc81f2020bfa179ace   76 days\n",
       "0007d6174a744123a9b0ada408b6ffc3    0 days\n",
       "000a6142899a475a95018303edef5551    0 days\n",
       "Name: date, dtype: timedelta64[ns]"
      ]
     },
     "execution_count": 424,
     "metadata": {},
     "output_type": "execute_result"
    }
   ],
   "source": [
    "dfs.playing_duration.head()"
   ]
  },
  {
   "cell_type": "code",
   "execution_count": 426,
   "metadata": {},
   "outputs": [],
   "source": [
    "dfs.Highest_Level_reached = dfs.gb[\"level_reached\"].max()"
   ]
  },
  {
   "cell_type": "code",
   "execution_count": 428,
   "metadata": {},
   "outputs": [],
   "source": [
    "dfs.total_sessions_played = dfs.gb[\"sessions_played\"].sum()"
   ]
  },
  {
   "cell_type": "code",
   "execution_count": 429,
   "metadata": {
    "collapsed": true
   },
   "outputs": [],
   "source": [
    "df_m_s = pd.DataFrame(dfs.total_sessions_played.index.values,                                               \n",
    "                                     columns = [\"udid\"],\n",
    "                                     index = dfs.total_sessions_played.index)"
   ]
  },
  {
   "cell_type": "code",
   "execution_count": 430,
   "metadata": {},
   "outputs": [
    {
     "data": {
      "text/html": [
       "<div>\n",
       "<style scoped>\n",
       "    .dataframe tbody tr th:only-of-type {\n",
       "        vertical-align: middle;\n",
       "    }\n",
       "\n",
       "    .dataframe tbody tr th {\n",
       "        vertical-align: top;\n",
       "    }\n",
       "\n",
       "    .dataframe thead th {\n",
       "        text-align: right;\n",
       "    }\n",
       "</style>\n",
       "<table border=\"1\" class=\"dataframe\">\n",
       "  <thead>\n",
       "    <tr style=\"text-align: right;\">\n",
       "      <th></th>\n",
       "      <th>udid</th>\n",
       "    </tr>\n",
       "    <tr>\n",
       "      <th>udid</th>\n",
       "      <th></th>\n",
       "    </tr>\n",
       "  </thead>\n",
       "  <tbody>\n",
       "    <tr>\n",
       "      <th>0000bdcfa90d496ea661a8d336308dbd</th>\n",
       "      <td>0000bdcfa90d496ea661a8d336308dbd</td>\n",
       "    </tr>\n",
       "    <tr>\n",
       "      <th>000223b517e041539d1a5042c81e9111</th>\n",
       "      <td>000223b517e041539d1a5042c81e9111</td>\n",
       "    </tr>\n",
       "    <tr>\n",
       "      <th>00031efa0eb841fc81f2020bfa179ace</th>\n",
       "      <td>00031efa0eb841fc81f2020bfa179ace</td>\n",
       "    </tr>\n",
       "    <tr>\n",
       "      <th>0007d6174a744123a9b0ada408b6ffc3</th>\n",
       "      <td>0007d6174a744123a9b0ada408b6ffc3</td>\n",
       "    </tr>\n",
       "    <tr>\n",
       "      <th>000a6142899a475a95018303edef5551</th>\n",
       "      <td>000a6142899a475a95018303edef5551</td>\n",
       "    </tr>\n",
       "  </tbody>\n",
       "</table>\n",
       "</div>"
      ],
      "text/plain": [
       "                                                              udid\n",
       "udid                                                              \n",
       "0000bdcfa90d496ea661a8d336308dbd  0000bdcfa90d496ea661a8d336308dbd\n",
       "000223b517e041539d1a5042c81e9111  000223b517e041539d1a5042c81e9111\n",
       "00031efa0eb841fc81f2020bfa179ace  00031efa0eb841fc81f2020bfa179ace\n",
       "0007d6174a744123a9b0ada408b6ffc3  0007d6174a744123a9b0ada408b6ffc3\n",
       "000a6142899a475a95018303edef5551  000a6142899a475a95018303edef5551"
      ]
     },
     "execution_count": 430,
     "metadata": {},
     "output_type": "execute_result"
    }
   ],
   "source": [
    "df_m_s.head()"
   ]
  },
  {
   "cell_type": "code",
   "execution_count": 431,
   "metadata": {
    "collapsed": true
   },
   "outputs": [],
   "source": [
    "df_m_s[\"playing_duration\"] = dfs.playing_duration.values\n",
    "df_m_s[\"total_sessions_played\"] = dfs.total_sessions_played.values\n",
    "df_m_s[\"Highest_Level_reached\"] = dfs.Highest_Level_reached.values\n",
    "df_m_s[\"Game_start_date\"] = dfs.newnwss.values\n"
   ]
  },
  {
   "cell_type": "code",
   "execution_count": 432,
   "metadata": {},
   "outputs": [
    {
     "data": {
      "text/html": [
       "<div>\n",
       "<style scoped>\n",
       "    .dataframe tbody tr th:only-of-type {\n",
       "        vertical-align: middle;\n",
       "    }\n",
       "\n",
       "    .dataframe tbody tr th {\n",
       "        vertical-align: top;\n",
       "    }\n",
       "\n",
       "    .dataframe thead th {\n",
       "        text-align: right;\n",
       "    }\n",
       "</style>\n",
       "<table border=\"1\" class=\"dataframe\">\n",
       "  <thead>\n",
       "    <tr style=\"text-align: right;\">\n",
       "      <th></th>\n",
       "      <th>udid</th>\n",
       "      <th>playing_duration</th>\n",
       "      <th>total_sessions_played</th>\n",
       "      <th>Highest_Level_reached</th>\n",
       "      <th>Game_start_date</th>\n",
       "    </tr>\n",
       "    <tr>\n",
       "      <th>udid</th>\n",
       "      <th></th>\n",
       "      <th></th>\n",
       "      <th></th>\n",
       "      <th></th>\n",
       "      <th></th>\n",
       "    </tr>\n",
       "  </thead>\n",
       "  <tbody>\n",
       "    <tr>\n",
       "      <th>0000bdcfa90d496ea661a8d336308dbd</th>\n",
       "      <td>0000bdcfa90d496ea661a8d336308dbd</td>\n",
       "      <td>0 days</td>\n",
       "      <td>2</td>\n",
       "      <td>1</td>\n",
       "      <td>2015-06-06</td>\n",
       "    </tr>\n",
       "    <tr>\n",
       "      <th>000223b517e041539d1a5042c81e9111</th>\n",
       "      <td>000223b517e041539d1a5042c81e9111</td>\n",
       "      <td>0 days</td>\n",
       "      <td>1</td>\n",
       "      <td>1</td>\n",
       "      <td>2015-06-07</td>\n",
       "    </tr>\n",
       "    <tr>\n",
       "      <th>00031efa0eb841fc81f2020bfa179ace</th>\n",
       "      <td>00031efa0eb841fc81f2020bfa179ace</td>\n",
       "      <td>76 days</td>\n",
       "      <td>70</td>\n",
       "      <td>12</td>\n",
       "      <td>2015-06-03</td>\n",
       "    </tr>\n",
       "    <tr>\n",
       "      <th>0007d6174a744123a9b0ada408b6ffc3</th>\n",
       "      <td>0007d6174a744123a9b0ada408b6ffc3</td>\n",
       "      <td>0 days</td>\n",
       "      <td>3</td>\n",
       "      <td>1</td>\n",
       "      <td>2015-06-06</td>\n",
       "    </tr>\n",
       "    <tr>\n",
       "      <th>000a6142899a475a95018303edef5551</th>\n",
       "      <td>000a6142899a475a95018303edef5551</td>\n",
       "      <td>0 days</td>\n",
       "      <td>2</td>\n",
       "      <td>1</td>\n",
       "      <td>2015-06-05</td>\n",
       "    </tr>\n",
       "  </tbody>\n",
       "</table>\n",
       "</div>"
      ],
      "text/plain": [
       "                                                              udid  \\\n",
       "udid                                                                 \n",
       "0000bdcfa90d496ea661a8d336308dbd  0000bdcfa90d496ea661a8d336308dbd   \n",
       "000223b517e041539d1a5042c81e9111  000223b517e041539d1a5042c81e9111   \n",
       "00031efa0eb841fc81f2020bfa179ace  00031efa0eb841fc81f2020bfa179ace   \n",
       "0007d6174a744123a9b0ada408b6ffc3  0007d6174a744123a9b0ada408b6ffc3   \n",
       "000a6142899a475a95018303edef5551  000a6142899a475a95018303edef5551   \n",
       "\n",
       "                                 playing_duration  total_sessions_played  \\\n",
       "udid                                                                       \n",
       "0000bdcfa90d496ea661a8d336308dbd           0 days                      2   \n",
       "000223b517e041539d1a5042c81e9111           0 days                      1   \n",
       "00031efa0eb841fc81f2020bfa179ace          76 days                     70   \n",
       "0007d6174a744123a9b0ada408b6ffc3           0 days                      3   \n",
       "000a6142899a475a95018303edef5551           0 days                      2   \n",
       "\n",
       "                                  Highest_Level_reached Game_start_date  \n",
       "udid                                                                     \n",
       "0000bdcfa90d496ea661a8d336308dbd                      1      2015-06-06  \n",
       "000223b517e041539d1a5042c81e9111                      1      2015-06-07  \n",
       "00031efa0eb841fc81f2020bfa179ace                     12      2015-06-03  \n",
       "0007d6174a744123a9b0ada408b6ffc3                      1      2015-06-06  \n",
       "000a6142899a475a95018303edef5551                      1      2015-06-05  "
      ]
     },
     "execution_count": 432,
     "metadata": {},
     "output_type": "execute_result"
    }
   ],
   "source": [
    "df_m_s.head()"
   ]
  },
  {
   "cell_type": "code",
   "execution_count": 433,
   "metadata": {},
   "outputs": [
    {
     "data": {
      "text/plain": [
       "(58831, 5)"
      ]
     },
     "execution_count": 433,
     "metadata": {},
     "output_type": "execute_result"
    }
   ],
   "source": [
    "df_m_s.shape"
   ]
  },
  {
   "cell_type": "markdown",
   "metadata": {},
   "source": [
    "We have customers around 58,831 active customers(who are playing the game by starting a session) out of which only 2186 have bought something. So, only less than 4% of the customers are actually buying atleast one thing in the app under the assumption that the data given tracked all the sessions and purchases of customers."
   ]
  },
  {
   "cell_type": "code",
   "execution_count": 434,
   "metadata": {
    "collapsed": true
   },
   "outputs": [],
   "source": [
    "#Converting the time into float( number of days)\n",
    "string_splitter = lambda x:x/np.timedelta64(1, 'D')\n",
    "\n",
    "df_m_s[\"playing_duration\"] = df_m_s[\"playing_duration\"].apply(string_splitter)"
   ]
  },
  {
   "cell_type": "code",
   "execution_count": 435,
   "metadata": {
    "collapsed": true
   },
   "outputs": [],
   "source": [
    "dfms = df_m_s.loc[:,[\"playing_duration\",\"total_sessions_played\",\"Highest_Level_reached\", \"Game_start_date\"]]\n",
    "dfms[\"playing_duration\"] = dfms[\"playing_duration\"] + 1 #error correction as explained in Purchases section"
   ]
  },
  {
   "cell_type": "code",
   "execution_count": 436,
   "metadata": {},
   "outputs": [
    {
     "data": {
      "text/html": [
       "<div>\n",
       "<style scoped>\n",
       "    .dataframe tbody tr th:only-of-type {\n",
       "        vertical-align: middle;\n",
       "    }\n",
       "\n",
       "    .dataframe tbody tr th {\n",
       "        vertical-align: top;\n",
       "    }\n",
       "\n",
       "    .dataframe thead th {\n",
       "        text-align: right;\n",
       "    }\n",
       "</style>\n",
       "<table border=\"1\" class=\"dataframe\">\n",
       "  <thead>\n",
       "    <tr style=\"text-align: right;\">\n",
       "      <th></th>\n",
       "      <th>playing_duration</th>\n",
       "      <th>total_sessions_played</th>\n",
       "      <th>Highest_Level_reached</th>\n",
       "      <th>Game_start_date</th>\n",
       "    </tr>\n",
       "    <tr>\n",
       "      <th>udid</th>\n",
       "      <th></th>\n",
       "      <th></th>\n",
       "      <th></th>\n",
       "      <th></th>\n",
       "    </tr>\n",
       "  </thead>\n",
       "  <tbody>\n",
       "    <tr>\n",
       "      <th>0000bdcfa90d496ea661a8d336308dbd</th>\n",
       "      <td>1.0</td>\n",
       "      <td>2</td>\n",
       "      <td>1</td>\n",
       "      <td>2015-06-06</td>\n",
       "    </tr>\n",
       "    <tr>\n",
       "      <th>000223b517e041539d1a5042c81e9111</th>\n",
       "      <td>1.0</td>\n",
       "      <td>1</td>\n",
       "      <td>1</td>\n",
       "      <td>2015-06-07</td>\n",
       "    </tr>\n",
       "    <tr>\n",
       "      <th>00031efa0eb841fc81f2020bfa179ace</th>\n",
       "      <td>77.0</td>\n",
       "      <td>70</td>\n",
       "      <td>12</td>\n",
       "      <td>2015-06-03</td>\n",
       "    </tr>\n",
       "    <tr>\n",
       "      <th>0007d6174a744123a9b0ada408b6ffc3</th>\n",
       "      <td>1.0</td>\n",
       "      <td>3</td>\n",
       "      <td>1</td>\n",
       "      <td>2015-06-06</td>\n",
       "    </tr>\n",
       "    <tr>\n",
       "      <th>000a6142899a475a95018303edef5551</th>\n",
       "      <td>1.0</td>\n",
       "      <td>2</td>\n",
       "      <td>1</td>\n",
       "      <td>2015-06-05</td>\n",
       "    </tr>\n",
       "  </tbody>\n",
       "</table>\n",
       "</div>"
      ],
      "text/plain": [
       "                                  playing_duration  total_sessions_played  \\\n",
       "udid                                                                        \n",
       "0000bdcfa90d496ea661a8d336308dbd               1.0                      2   \n",
       "000223b517e041539d1a5042c81e9111               1.0                      1   \n",
       "00031efa0eb841fc81f2020bfa179ace              77.0                     70   \n",
       "0007d6174a744123a9b0ada408b6ffc3               1.0                      3   \n",
       "000a6142899a475a95018303edef5551               1.0                      2   \n",
       "\n",
       "                                  Highest_Level_reached Game_start_date  \n",
       "udid                                                                     \n",
       "0000bdcfa90d496ea661a8d336308dbd                      1      2015-06-06  \n",
       "000223b517e041539d1a5042c81e9111                      1      2015-06-07  \n",
       "00031efa0eb841fc81f2020bfa179ace                     12      2015-06-03  \n",
       "0007d6174a744123a9b0ada408b6ffc3                      1      2015-06-06  \n",
       "000a6142899a475a95018303edef5551                      1      2015-06-05  "
      ]
     },
     "execution_count": 436,
     "metadata": {},
     "output_type": "execute_result"
    }
   ],
   "source": [
    "dfms.head()"
   ]
  },
  {
   "cell_type": "code",
   "execution_count": 437,
   "metadata": {},
   "outputs": [
    {
     "data": {
      "image/png": "[encoded data removed]",
      "text/plain": [
       "<matplotlib.figure.Figure at 0x1b5ef599a58>"
      ]
     },
     "metadata": {},
     "output_type": "display_data"
    }
   ],
   "source": [
    "ax = sns.pairplot(data=dfms)\n",
    "plt.show()"
   ]
  },
  {
   "cell_type": "markdown",
   "metadata": {},
   "source": [
    "We can say that the playing_duration, total_sessions_played and Highest_Level_reached are Right skewed. We consider that each session time is equal as the playing_duration is giving the active number of days the customer is actually interested in playing\n",
    "the game (this can be considered as \"observation_period\")."
   ]
  },
  {
   "cell_type": "markdown",
   "metadata": {},
   "source": [
    "Let's look closer into total_sessions_played and Highest_Level_reached"
   ]
  },
  {
   "cell_type": "code",
   "execution_count": 438,
   "metadata": {},
   "outputs": [
    {
     "data": {
      "image/png": "[encoded data removed]",
      "text/plain": [
       "<matplotlib.figure.Figure at 0x1b5ef568f98>"
      ]
     },
     "metadata": {},
     "output_type": "display_data"
    }
   ],
   "source": [
    "sns.regplot(x=\"total_sessions_played\", y=\"Highest_Level_reached\", data=df_m_s)\n",
    "plt.show()"
   ]
  },
  {
   "cell_type": "markdown",
   "metadata": {},
   "source": [
    "By this 2 way interaction plot we can classify the users as \"Rookie\" who are present at Right Bottom as these users played many \n",
    "sessions but did not make it to the higher levels.[total_sessions_played > 1750 and Highest_Level_reached < 50]\n",
    "\n",
    "\"Pro_Gamers\" who played less sessions and made it to the higher levels [Highest_Level_reached > 25 and total_sessions_played < 250]\n",
    "\n",
    "The rest of the users are categorized as \"Normal_Gamers\""
   ]
  },
  {
   "cell_type": "code",
   "execution_count": 439,
   "metadata": {},
   "outputs": [
    {
     "data": {
      "text/html": [
       "<div>\n",
       "<style scoped>\n",
       "    .dataframe tbody tr th:only-of-type {\n",
       "        vertical-align: middle;\n",
       "    }\n",
       "\n",
       "    .dataframe tbody tr th {\n",
       "        vertical-align: top;\n",
       "    }\n",
       "\n",
       "    .dataframe thead th {\n",
       "        text-align: right;\n",
       "    }\n",
       "</style>\n",
       "<table border=\"1\" class=\"dataframe\">\n",
       "  <thead>\n",
       "    <tr style=\"text-align: right;\">\n",
       "      <th></th>\n",
       "      <th>playing_duration</th>\n",
       "      <th>total_sessions_played</th>\n",
       "      <th>Highest_Level_reached</th>\n",
       "      <th>Game_start_date</th>\n",
       "      <th>gamer_level</th>\n",
       "    </tr>\n",
       "    <tr>\n",
       "      <th>udid</th>\n",
       "      <th></th>\n",
       "      <th></th>\n",
       "      <th></th>\n",
       "      <th></th>\n",
       "      <th></th>\n",
       "    </tr>\n",
       "  </thead>\n",
       "  <tbody>\n",
       "    <tr>\n",
       "      <th>0000bdcfa90d496ea661a8d336308dbd</th>\n",
       "      <td>1.0</td>\n",
       "      <td>2</td>\n",
       "      <td>1</td>\n",
       "      <td>2015-06-06</td>\n",
       "      <td>Normal_Gamers</td>\n",
       "    </tr>\n",
       "    <tr>\n",
       "      <th>000223b517e041539d1a5042c81e9111</th>\n",
       "      <td>1.0</td>\n",
       "      <td>1</td>\n",
       "      <td>1</td>\n",
       "      <td>2015-06-07</td>\n",
       "      <td>Normal_Gamers</td>\n",
       "    </tr>\n",
       "    <tr>\n",
       "      <th>00031efa0eb841fc81f2020bfa179ace</th>\n",
       "      <td>77.0</td>\n",
       "      <td>70</td>\n",
       "      <td>12</td>\n",
       "      <td>2015-06-03</td>\n",
       "      <td>Normal_Gamers</td>\n",
       "    </tr>\n",
       "    <tr>\n",
       "      <th>0007d6174a744123a9b0ada408b6ffc3</th>\n",
       "      <td>1.0</td>\n",
       "      <td>3</td>\n",
       "      <td>1</td>\n",
       "      <td>2015-06-06</td>\n",
       "      <td>Normal_Gamers</td>\n",
       "    </tr>\n",
       "    <tr>\n",
       "      <th>000a6142899a475a95018303edef5551</th>\n",
       "      <td>1.0</td>\n",
       "      <td>2</td>\n",
       "      <td>1</td>\n",
       "      <td>2015-06-05</td>\n",
       "      <td>Normal_Gamers</td>\n",
       "    </tr>\n",
       "  </tbody>\n",
       "</table>\n",
       "</div>"
      ],
      "text/plain": [
       "                                  playing_duration  total_sessions_played  \\\n",
       "udid                                                                        \n",
       "0000bdcfa90d496ea661a8d336308dbd               1.0                      2   \n",
       "000223b517e041539d1a5042c81e9111               1.0                      1   \n",
       "00031efa0eb841fc81f2020bfa179ace              77.0                     70   \n",
       "0007d6174a744123a9b0ada408b6ffc3               1.0                      3   \n",
       "000a6142899a475a95018303edef5551               1.0                      2   \n",
       "\n",
       "                                  Highest_Level_reached Game_start_date  \\\n",
       "udid                                                                      \n",
       "0000bdcfa90d496ea661a8d336308dbd                      1      2015-06-06   \n",
       "000223b517e041539d1a5042c81e9111                      1      2015-06-07   \n",
       "00031efa0eb841fc81f2020bfa179ace                     12      2015-06-03   \n",
       "0007d6174a744123a9b0ada408b6ffc3                      1      2015-06-06   \n",
       "000a6142899a475a95018303edef5551                      1      2015-06-05   \n",
       "\n",
       "                                    gamer_level  \n",
       "udid                                             \n",
       "0000bdcfa90d496ea661a8d336308dbd  Normal_Gamers  \n",
       "000223b517e041539d1a5042c81e9111  Normal_Gamers  \n",
       "00031efa0eb841fc81f2020bfa179ace  Normal_Gamers  \n",
       "0007d6174a744123a9b0ada408b6ffc3  Normal_Gamers  \n",
       "000a6142899a475a95018303edef5551  Normal_Gamers  "
      ]
     },
     "execution_count": 439,
     "metadata": {},
     "output_type": "execute_result"
    }
   ],
   "source": [
    "dfms[\"gamer_level\"] = \"Normal_Gamers\"\n",
    "\n",
    "R =  (dfms[\"total_sessions_played\"] > 1500) & (dfms[\"Highest_Level_reached\"] < 75)\n",
    "\n",
    "dfms.loc[R,\"gamer_level\"] = \"Rookie\"\n",
    "\n",
    "P =  (dfms[\"total_sessions_played\"] < 250) & (dfms[\"Highest_Level_reached\"] > 25)\n",
    "\n",
    "dfms.loc[P ,\"gamer_level\"] = \"Pro_Gamers\"\n",
    "\n",
    "dfms.head()"
   ]
  },
  {
   "cell_type": "code",
   "execution_count": 440,
   "metadata": {},
   "outputs": [
    {
     "name": "stderr",
     "output_type": "stream",
     "text": [
      "C:\\Users\\jeeva\\Anaconda3\\envs\\py35\\lib\\site-packages\\seaborn\\categorical.py:1460: FutureWarning: remove_na is deprecated and is a private function. Do not use.\n",
      "  stat_data = remove_na(group_data)\n"
     ]
    },
    {
     "data": {
      "image/png": "[encoded data removed]",
      "text/plain": [
       "<matplotlib.figure.Figure at 0x1b5f175db38>"
      ]
     },
     "metadata": {},
     "output_type": "display_data"
    }
   ],
   "source": [
    "sns.countplot(x=\"gamer_level\", data = dfms, color = \"g\")\n",
    "plt.show()"
   ]
  },
  {
   "cell_type": "code",
   "execution_count": 441,
   "metadata": {},
   "outputs": [
    {
     "data": {
      "text/html": [
       "<div>\n",
       "<style scoped>\n",
       "    .dataframe tbody tr th:only-of-type {\n",
       "        vertical-align: middle;\n",
       "    }\n",
       "\n",
       "    .dataframe tbody tr th {\n",
       "        vertical-align: top;\n",
       "    }\n",
       "\n",
       "    .dataframe thead th {\n",
       "        text-align: right;\n",
       "    }\n",
       "</style>\n",
       "<table border=\"1\" class=\"dataframe\">\n",
       "  <thead>\n",
       "    <tr style=\"text-align: right;\">\n",
       "      <th></th>\n",
       "      <th>playing_duration</th>\n",
       "      <th>total_sessions_played</th>\n",
       "      <th>Highest_Level_reached</th>\n",
       "    </tr>\n",
       "  </thead>\n",
       "  <tbody>\n",
       "    <tr>\n",
       "      <th>count</th>\n",
       "      <td>58831.000000</td>\n",
       "      <td>58831.000000</td>\n",
       "      <td>58831.000000</td>\n",
       "    </tr>\n",
       "    <tr>\n",
       "      <th>mean</th>\n",
       "      <td>17.721235</td>\n",
       "      <td>38.947698</td>\n",
       "      <td>5.046999</td>\n",
       "    </tr>\n",
       "    <tr>\n",
       "      <th>std</th>\n",
       "      <td>26.796623</td>\n",
       "      <td>127.188284</td>\n",
       "      <td>6.958439</td>\n",
       "    </tr>\n",
       "    <tr>\n",
       "      <th>min</th>\n",
       "      <td>1.000000</td>\n",
       "      <td>1.000000</td>\n",
       "      <td>1.000000</td>\n",
       "    </tr>\n",
       "    <tr>\n",
       "      <th>25%</th>\n",
       "      <td>1.000000</td>\n",
       "      <td>1.000000</td>\n",
       "      <td>1.000000</td>\n",
       "    </tr>\n",
       "    <tr>\n",
       "      <th>50%</th>\n",
       "      <td>3.000000</td>\n",
       "      <td>4.000000</td>\n",
       "      <td>2.000000</td>\n",
       "    </tr>\n",
       "    <tr>\n",
       "      <th>75%</th>\n",
       "      <td>23.000000</td>\n",
       "      <td>18.000000</td>\n",
       "      <td>6.000000</td>\n",
       "    </tr>\n",
       "    <tr>\n",
       "      <th>max</th>\n",
       "      <td>92.000000</td>\n",
       "      <td>3634.000000</td>\n",
       "      <td>187.000000</td>\n",
       "    </tr>\n",
       "  </tbody>\n",
       "</table>\n",
       "</div>"
      ],
      "text/plain": [
       "       playing_duration  total_sessions_played  Highest_Level_reached\n",
       "count      58831.000000           58831.000000           58831.000000\n",
       "mean          17.721235              38.947698               5.046999\n",
       "std           26.796623             127.188284               6.958439\n",
       "min            1.000000               1.000000               1.000000\n",
       "25%            1.000000               1.000000               1.000000\n",
       "50%            3.000000               4.000000               2.000000\n",
       "75%           23.000000              18.000000               6.000000\n",
       "max           92.000000            3634.000000             187.000000"
      ]
     },
     "execution_count": 441,
     "metadata": {},
     "output_type": "execute_result"
    }
   ],
   "source": [
    "dfms.describe()"
   ]
  },
  {
   "cell_type": "markdown",
   "metadata": {},
   "source": [
    "As mean is far greater than the 50 percentile value we can say that the distribution is Right skewed."
   ]
  },
  {
   "cell_type": "code",
   "execution_count": 442,
   "metadata": {},
   "outputs": [
    {
     "data": {
      "text/plain": [
       "Normal_Gamers    58522\n",
       "Pro_Gamers         250\n",
       "Rookie              59\n",
       "dtype: int64"
      ]
     },
     "execution_count": 442,
     "metadata": {},
     "output_type": "execute_result"
    }
   ],
   "source": [
    "pd.value_counts(dfms['gamer_level'].values, sort=False)"
   ]
  },
  {
   "cell_type": "code",
   "execution_count": 443,
   "metadata": {},
   "outputs": [
    {
     "data": {
      "text/html": [
       "<div>\n",
       "<style scoped>\n",
       "    .dataframe tbody tr th:only-of-type {\n",
       "        vertical-align: middle;\n",
       "    }\n",
       "\n",
       "    .dataframe tbody tr th {\n",
       "        vertical-align: top;\n",
       "    }\n",
       "\n",
       "    .dataframe thead th {\n",
       "        text-align: right;\n",
       "    }\n",
       "</style>\n",
       "<table border=\"1\" class=\"dataframe\">\n",
       "  <thead>\n",
       "    <tr style=\"text-align: right;\">\n",
       "      <th></th>\n",
       "      <th>playing_duration</th>\n",
       "      <th>total_sessions_played</th>\n",
       "      <th>Highest_Level_reached</th>\n",
       "      <th>Game_start_date</th>\n",
       "      <th>gamer_level</th>\n",
       "      <th>udid</th>\n",
       "    </tr>\n",
       "    <tr>\n",
       "      <th>udid</th>\n",
       "      <th></th>\n",
       "      <th></th>\n",
       "      <th></th>\n",
       "      <th></th>\n",
       "      <th></th>\n",
       "      <th></th>\n",
       "    </tr>\n",
       "  </thead>\n",
       "  <tbody>\n",
       "    <tr>\n",
       "      <th>0000bdcfa90d496ea661a8d336308dbd</th>\n",
       "      <td>1.0</td>\n",
       "      <td>2</td>\n",
       "      <td>1</td>\n",
       "      <td>2015-06-06</td>\n",
       "      <td>Normal_Gamers</td>\n",
       "      <td>0000bdcfa90d496ea661a8d336308dbd</td>\n",
       "    </tr>\n",
       "    <tr>\n",
       "      <th>000223b517e041539d1a5042c81e9111</th>\n",
       "      <td>1.0</td>\n",
       "      <td>1</td>\n",
       "      <td>1</td>\n",
       "      <td>2015-06-07</td>\n",
       "      <td>Normal_Gamers</td>\n",
       "      <td>000223b517e041539d1a5042c81e9111</td>\n",
       "    </tr>\n",
       "    <tr>\n",
       "      <th>00031efa0eb841fc81f2020bfa179ace</th>\n",
       "      <td>77.0</td>\n",
       "      <td>70</td>\n",
       "      <td>12</td>\n",
       "      <td>2015-06-03</td>\n",
       "      <td>Normal_Gamers</td>\n",
       "      <td>00031efa0eb841fc81f2020bfa179ace</td>\n",
       "    </tr>\n",
       "    <tr>\n",
       "      <th>0007d6174a744123a9b0ada408b6ffc3</th>\n",
       "      <td>1.0</td>\n",
       "      <td>3</td>\n",
       "      <td>1</td>\n",
       "      <td>2015-06-06</td>\n",
       "      <td>Normal_Gamers</td>\n",
       "      <td>0007d6174a744123a9b0ada408b6ffc3</td>\n",
       "    </tr>\n",
       "    <tr>\n",
       "      <th>000a6142899a475a95018303edef5551</th>\n",
       "      <td>1.0</td>\n",
       "      <td>2</td>\n",
       "      <td>1</td>\n",
       "      <td>2015-06-05</td>\n",
       "      <td>Normal_Gamers</td>\n",
       "      <td>000a6142899a475a95018303edef5551</td>\n",
       "    </tr>\n",
       "  </tbody>\n",
       "</table>\n",
       "</div>"
      ],
      "text/plain": [
       "                                  playing_duration  total_sessions_played  \\\n",
       "udid                                                                        \n",
       "0000bdcfa90d496ea661a8d336308dbd               1.0                      2   \n",
       "000223b517e041539d1a5042c81e9111               1.0                      1   \n",
       "00031efa0eb841fc81f2020bfa179ace              77.0                     70   \n",
       "0007d6174a744123a9b0ada408b6ffc3               1.0                      3   \n",
       "000a6142899a475a95018303edef5551               1.0                      2   \n",
       "\n",
       "                                  Highest_Level_reached Game_start_date  \\\n",
       "udid                                                                      \n",
       "0000bdcfa90d496ea661a8d336308dbd                      1      2015-06-06   \n",
       "000223b517e041539d1a5042c81e9111                      1      2015-06-07   \n",
       "00031efa0eb841fc81f2020bfa179ace                     12      2015-06-03   \n",
       "0007d6174a744123a9b0ada408b6ffc3                      1      2015-06-06   \n",
       "000a6142899a475a95018303edef5551                      1      2015-06-05   \n",
       "\n",
       "                                    gamer_level  \\\n",
       "udid                                              \n",
       "0000bdcfa90d496ea661a8d336308dbd  Normal_Gamers   \n",
       "000223b517e041539d1a5042c81e9111  Normal_Gamers   \n",
       "00031efa0eb841fc81f2020bfa179ace  Normal_Gamers   \n",
       "0007d6174a744123a9b0ada408b6ffc3  Normal_Gamers   \n",
       "000a6142899a475a95018303edef5551  Normal_Gamers   \n",
       "\n",
       "                                                              udid  \n",
       "udid                                                                \n",
       "0000bdcfa90d496ea661a8d336308dbd  0000bdcfa90d496ea661a8d336308dbd  \n",
       "000223b517e041539d1a5042c81e9111  000223b517e041539d1a5042c81e9111  \n",
       "00031efa0eb841fc81f2020bfa179ace  00031efa0eb841fc81f2020bfa179ace  \n",
       "0007d6174a744123a9b0ada408b6ffc3  0007d6174a744123a9b0ada408b6ffc3  \n",
       "000a6142899a475a95018303edef5551  000a6142899a475a95018303edef5551  "
      ]
     },
     "execution_count": 443,
     "metadata": {},
     "output_type": "execute_result"
    }
   ],
   "source": [
    "dfms[\"udid\"] = df_m_s[\"udid\"]\n",
    "dfms.head()"
   ]
  },
  {
   "cell_type": "code",
   "execution_count": 444,
   "metadata": {},
   "outputs": [
    {
     "data": {
      "text/plain": [
       "Timestamp('2015-06-07 00:00:00')"
      ]
     },
     "execution_count": 444,
     "metadata": {},
     "output_type": "execute_result"
    }
   ],
   "source": [
    "dfms[\"Game_start_date\"].max()"
   ]
  },
  {
   "cell_type": "markdown",
   "metadata": {},
   "source": [
    "# Users File"
   ]
  },
  {
   "cell_type": "code",
   "execution_count": 445,
   "metadata": {
    "collapsed": true
   },
   "outputs": [],
   "source": [
    "dfu = pd.read_csv(\"Users.csv\")"
   ]
  },
  {
   "cell_type": "code",
   "execution_count": 446,
   "metadata": {},
   "outputs": [
    {
     "data": {
      "text/html": [
       "<div>\n",
       "<style scoped>\n",
       "    .dataframe tbody tr th:only-of-type {\n",
       "        vertical-align: middle;\n",
       "    }\n",
       "\n",
       "    .dataframe tbody tr th {\n",
       "        vertical-align: top;\n",
       "    }\n",
       "\n",
       "    .dataframe thead th {\n",
       "        text-align: right;\n",
       "    }\n",
       "</style>\n",
       "<table border=\"1\" class=\"dataframe\">\n",
       "  <thead>\n",
       "    <tr style=\"text-align: right;\">\n",
       "      <th></th>\n",
       "      <th>udid</th>\n",
       "      <th>install_date</th>\n",
       "      <th>country</th>\n",
       "      <th>hw_ver</th>\n",
       "    </tr>\n",
       "  </thead>\n",
       "  <tbody>\n",
       "    <tr>\n",
       "      <th>0</th>\n",
       "      <td>43109861225c4a6e7f8ddcf5cd7d830a46c1bc12</td>\n",
       "      <td>6/1/2015</td>\n",
       "      <td>VN</td>\n",
       "      <td>iPad3,6</td>\n",
       "    </tr>\n",
       "    <tr>\n",
       "      <th>1</th>\n",
       "      <td>896b5b37b0584e1ba29fb9c8a07f1a96</td>\n",
       "      <td>6/1/2015</td>\n",
       "      <td>CH</td>\n",
       "      <td>iPad2,4</td>\n",
       "    </tr>\n",
       "    <tr>\n",
       "      <th>2</th>\n",
       "      <td>85553c0a639348c89601cdd375502f16</td>\n",
       "      <td>6/1/2015</td>\n",
       "      <td>US</td>\n",
       "      <td>iPhone3,1</td>\n",
       "    </tr>\n",
       "    <tr>\n",
       "      <th>3</th>\n",
       "      <td>5385ff94fd2447dea653e16e76da3bfb</td>\n",
       "      <td>6/1/2015</td>\n",
       "      <td>SE</td>\n",
       "      <td>iPad4,1</td>\n",
       "    </tr>\n",
       "    <tr>\n",
       "      <th>4</th>\n",
       "      <td>10d3472f14af4102b09e16d5ca605533</td>\n",
       "      <td>6/1/2015</td>\n",
       "      <td>AU</td>\n",
       "      <td>iPhone7,1</td>\n",
       "    </tr>\n",
       "  </tbody>\n",
       "</table>\n",
       "</div>"
      ],
      "text/plain": [
       "                                       udid install_date country     hw_ver\n",
       "0  43109861225c4a6e7f8ddcf5cd7d830a46c1bc12     6/1/2015      VN    iPad3,6\n",
       "1          896b5b37b0584e1ba29fb9c8a07f1a96     6/1/2015      CH    iPad2,4\n",
       "2          85553c0a639348c89601cdd375502f16     6/1/2015      US  iPhone3,1\n",
       "3          5385ff94fd2447dea653e16e76da3bfb     6/1/2015      SE    iPad4,1\n",
       "4          10d3472f14af4102b09e16d5ca605533     6/1/2015      AU  iPhone7,1"
      ]
     },
     "execution_count": 446,
     "metadata": {},
     "output_type": "execute_result"
    }
   ],
   "source": [
    "dfu.head()"
   ]
  },
  {
   "cell_type": "code",
   "execution_count": 447,
   "metadata": {},
   "outputs": [
    {
     "data": {
      "text/plain": [
       "(58842, 4)"
      ]
     },
     "execution_count": 447,
     "metadata": {},
     "output_type": "execute_result"
    }
   ],
   "source": [
    "dfu.shape"
   ]
  },
  {
   "cell_type": "markdown",
   "metadata": {},
   "source": [
    "Around 58,842 members have installed the game in June 2015. Around 58,831 customers sessions are available with us. We can assume that we are tracking the customers effectively."
   ]
  },
  {
   "cell_type": "code",
   "execution_count": 486,
   "metadata": {},
   "outputs": [
    {
     "data": {
      "text/plain": [
       "udid             0\n",
       "install_date     0\n",
       "country         54\n",
       "hw_ver           0\n",
       "dtype: int64"
      ]
     },
     "execution_count": 486,
     "metadata": {},
     "output_type": "execute_result"
    }
   ],
   "source": [
    "dfu.isnull().sum()"
   ]
  },
  {
   "cell_type": "code",
   "execution_count": 488,
   "metadata": {},
   "outputs": [
    {
     "data": {
      "text/plain": [
       "58842"
      ]
     },
     "execution_count": 488,
     "metadata": {},
     "output_type": "execute_result"
    }
   ],
   "source": [
    "len(dfu[\"udid\"].unique())"
   ]
  },
  {
   "cell_type": "markdown",
   "metadata": {},
   "source": [
    "So, around 58,842 users installed the game in the first week of June.We have 54 missing values of countries of Users"
   ]
  },
  {
   "cell_type": "markdown",
   "metadata": {},
   "source": [
    "# Modelling"
   ]
  },
  {
   "cell_type": "code",
   "execution_count": 448,
   "metadata": {},
   "outputs": [
    {
     "data": {
      "text/plain": [
       "(58831, 6)"
      ]
     },
     "execution_count": 448,
     "metadata": {},
     "output_type": "execute_result"
    }
   ],
   "source": [
    "dfms.shape#Sessions data"
   ]
  },
  {
   "cell_type": "code",
   "execution_count": 449,
   "metadata": {},
   "outputs": [
    {
     "data": {
      "text/plain": [
       "(2108, 5)"
      ]
     },
     "execution_count": 449,
     "metadata": {},
     "output_type": "execute_result"
    }
   ],
   "source": [
    "dfm.shape#Purchases data,   around 78 people started buying the inapp purchases from September"
   ]
  },
  {
   "cell_type": "markdown",
   "metadata": {},
   "source": [
    "Merging Purchases with Sessions to get new data frame"
   ]
  },
  {
   "cell_type": "code",
   "execution_count": 450,
   "metadata": {
    "collapsed": true
   },
   "outputs": [],
   "source": [
    "dft = pd.merge(dfm, dfms, on='udid', how='inner')"
   ]
  },
  {
   "cell_type": "markdown",
   "metadata": {},
   "source": [
    "Merging new data frame with users dataframe to get the final dataframe"
   ]
  },
  {
   "cell_type": "code",
   "execution_count": 451,
   "metadata": {
    "collapsed": true
   },
   "outputs": [],
   "source": [
    "dft1 = pd.merge(dft,dfu, on = 'udid', how = 'inner')"
   ]
  },
  {
   "cell_type": "code",
   "execution_count": 452,
   "metadata": {},
   "outputs": [
    {
     "data": {
      "text/plain": [
       "purchase_duration        0\n",
       "total_purchases_made     0\n",
       "Long term Value          0\n",
       "Cust_Spend               0\n",
       "udid                     0\n",
       "playing_duration         0\n",
       "total_sessions_played    0\n",
       "Highest_Level_reached    0\n",
       "Game_start_date          0\n",
       "gamer_level              0\n",
       "install_date             0\n",
       "country                  2\n",
       "hw_ver                   0\n",
       "dtype: int64"
      ]
     },
     "execution_count": 452,
     "metadata": {},
     "output_type": "execute_result"
    }
   ],
   "source": [
    "dft1.isnull().sum()"
   ]
  },
  {
   "cell_type": "code",
   "execution_count": null,
   "metadata": {
    "collapsed": true
   },
   "outputs": [],
   "source": [
    "#We only have 2 missing values of countries of our customers"
   ]
  },
  {
   "cell_type": "code",
   "execution_count": 453,
   "metadata": {},
   "outputs": [
    {
     "data": {
      "text/plain": [
       "(2108, 13)"
      ]
     },
     "execution_count": 453,
     "metadata": {},
     "output_type": "execute_result"
    }
   ],
   "source": [
    "dft1.shape"
   ]
  },
  {
   "cell_type": "code",
   "execution_count": 454,
   "metadata": {},
   "outputs": [
    {
     "data": {
      "text/html": [
       "<div>\n",
       "<style scoped>\n",
       "    .dataframe tbody tr th:only-of-type {\n",
       "        vertical-align: middle;\n",
       "    }\n",
       "\n",
       "    .dataframe tbody tr th {\n",
       "        vertical-align: top;\n",
       "    }\n",
       "\n",
       "    .dataframe thead th {\n",
       "        text-align: right;\n",
       "    }\n",
       "</style>\n",
       "<table border=\"1\" class=\"dataframe\">\n",
       "  <thead>\n",
       "    <tr style=\"text-align: right;\">\n",
       "      <th></th>\n",
       "      <th>purchase_duration</th>\n",
       "      <th>total_purchases_made</th>\n",
       "      <th>Long term Value</th>\n",
       "      <th>Cust_Spend</th>\n",
       "      <th>udid</th>\n",
       "      <th>playing_duration</th>\n",
       "      <th>total_sessions_played</th>\n",
       "      <th>Highest_Level_reached</th>\n",
       "      <th>Game_start_date</th>\n",
       "      <th>gamer_level</th>\n",
       "      <th>install_date</th>\n",
       "      <th>country</th>\n",
       "      <th>hw_ver</th>\n",
       "    </tr>\n",
       "  </thead>\n",
       "  <tbody>\n",
       "    <tr>\n",
       "      <th>0</th>\n",
       "      <td>63.0</td>\n",
       "      <td>12</td>\n",
       "      <td>682.5</td>\n",
       "      <td>Low</td>\n",
       "      <td>0020f5c05795400bb2868009cf4b2080</td>\n",
       "      <td>84.0</td>\n",
       "      <td>501</td>\n",
       "      <td>48</td>\n",
       "      <td>2015-06-01</td>\n",
       "      <td>Normal_Gamers</td>\n",
       "      <td>6/1/2015</td>\n",
       "      <td>US</td>\n",
       "      <td>iPhone7,2</td>\n",
       "    </tr>\n",
       "    <tr>\n",
       "      <th>1</th>\n",
       "      <td>18.0</td>\n",
       "      <td>2</td>\n",
       "      <td>17.5</td>\n",
       "      <td>Low</td>\n",
       "      <td>002b934415cb4ae78579f3be87a6283d</td>\n",
       "      <td>92.0</td>\n",
       "      <td>826</td>\n",
       "      <td>42</td>\n",
       "      <td>2015-06-01</td>\n",
       "      <td>Normal_Gamers</td>\n",
       "      <td>6/1/2015</td>\n",
       "      <td>US</td>\n",
       "      <td>iPhone6,1</td>\n",
       "    </tr>\n",
       "    <tr>\n",
       "      <th>2</th>\n",
       "      <td>1.0</td>\n",
       "      <td>1</td>\n",
       "      <td>3.5</td>\n",
       "      <td>Low</td>\n",
       "      <td>004f2f923b8f47a6b9f91fa5c61095de</td>\n",
       "      <td>52.0</td>\n",
       "      <td>242</td>\n",
       "      <td>30</td>\n",
       "      <td>2015-06-03</td>\n",
       "      <td>Pro_Gamers</td>\n",
       "      <td>6/3/2015</td>\n",
       "      <td>DE</td>\n",
       "      <td>iPhone6,2</td>\n",
       "    </tr>\n",
       "    <tr>\n",
       "      <th>3</th>\n",
       "      <td>1.0</td>\n",
       "      <td>1</td>\n",
       "      <td>3.5</td>\n",
       "      <td>Low</td>\n",
       "      <td>00776d802fef4a26b525aed437af4728</td>\n",
       "      <td>17.0</td>\n",
       "      <td>82</td>\n",
       "      <td>13</td>\n",
       "      <td>2015-06-06</td>\n",
       "      <td>Normal_Gamers</td>\n",
       "      <td>6/6/2015</td>\n",
       "      <td>US</td>\n",
       "      <td>iPhone5,3</td>\n",
       "    </tr>\n",
       "    <tr>\n",
       "      <th>4</th>\n",
       "      <td>1.0</td>\n",
       "      <td>1</td>\n",
       "      <td>3.5</td>\n",
       "      <td>Low</td>\n",
       "      <td>008808b510244c9b957adbf27dd8c748</td>\n",
       "      <td>11.0</td>\n",
       "      <td>7</td>\n",
       "      <td>4</td>\n",
       "      <td>2015-06-07</td>\n",
       "      <td>Normal_Gamers</td>\n",
       "      <td>6/7/2015</td>\n",
       "      <td>US</td>\n",
       "      <td>iPhone5,3</td>\n",
       "    </tr>\n",
       "  </tbody>\n",
       "</table>\n",
       "</div>"
      ],
      "text/plain": [
       "   purchase_duration  total_purchases_made  Long term Value Cust_Spend  \\\n",
       "0               63.0                    12            682.5        Low   \n",
       "1               18.0                     2             17.5        Low   \n",
       "2                1.0                     1              3.5        Low   \n",
       "3                1.0                     1              3.5        Low   \n",
       "4                1.0                     1              3.5        Low   \n",
       "\n",
       "                               udid  playing_duration  total_sessions_played  \\\n",
       "0  0020f5c05795400bb2868009cf4b2080              84.0                    501   \n",
       "1  002b934415cb4ae78579f3be87a6283d              92.0                    826   \n",
       "2  004f2f923b8f47a6b9f91fa5c61095de              52.0                    242   \n",
       "3  00776d802fef4a26b525aed437af4728              17.0                     82   \n",
       "4  008808b510244c9b957adbf27dd8c748              11.0                      7   \n",
       "\n",
       "   Highest_Level_reached Game_start_date    gamer_level install_date country  \\\n",
       "0                     48      2015-06-01  Normal_Gamers     6/1/2015      US   \n",
       "1                     42      2015-06-01  Normal_Gamers     6/1/2015      US   \n",
       "2                     30      2015-06-03     Pro_Gamers     6/3/2015      DE   \n",
       "3                     13      2015-06-06  Normal_Gamers     6/6/2015      US   \n",
       "4                      4      2015-06-07  Normal_Gamers     6/7/2015      US   \n",
       "\n",
       "      hw_ver  \n",
       "0  iPhone7,2  \n",
       "1  iPhone6,1  \n",
       "2  iPhone6,2  \n",
       "3  iPhone5,3  \n",
       "4  iPhone5,3  "
      ]
     },
     "execution_count": 454,
     "metadata": {},
     "output_type": "execute_result"
    }
   ],
   "source": [
    "dft1.head()"
   ]
  },
  {
   "cell_type": "code",
   "execution_count": 455,
   "metadata": {
    "collapsed": true
   },
   "outputs": [],
   "source": [
    "dff = dft1.loc[:,[\"total_sessions_played\",\"Highest_Level_reached\",\"purchase_duration\",\"playing_duration\",\n",
    "                  \"total_purchases_made\", \"gamer_level\", \"Cust_Spend\",\"Long term Value\" ]]"
   ]
  },
  {
   "cell_type": "code",
   "execution_count": 456,
   "metadata": {},
   "outputs": [
    {
     "data": {
      "text/html": [
       "<div>\n",
       "<style scoped>\n",
       "    .dataframe tbody tr th:only-of-type {\n",
       "        vertical-align: middle;\n",
       "    }\n",
       "\n",
       "    .dataframe tbody tr th {\n",
       "        vertical-align: top;\n",
       "    }\n",
       "\n",
       "    .dataframe thead th {\n",
       "        text-align: right;\n",
       "    }\n",
       "</style>\n",
       "<table border=\"1\" class=\"dataframe\">\n",
       "  <thead>\n",
       "    <tr style=\"text-align: right;\">\n",
       "      <th></th>\n",
       "      <th>total_sessions_played</th>\n",
       "      <th>Highest_Level_reached</th>\n",
       "      <th>purchase_duration</th>\n",
       "      <th>playing_duration</th>\n",
       "      <th>total_purchases_made</th>\n",
       "      <th>gamer_level</th>\n",
       "      <th>Cust_Spend</th>\n",
       "      <th>Long term Value</th>\n",
       "    </tr>\n",
       "  </thead>\n",
       "  <tbody>\n",
       "    <tr>\n",
       "      <th>0</th>\n",
       "      <td>501</td>\n",
       "      <td>48</td>\n",
       "      <td>63.0</td>\n",
       "      <td>84.0</td>\n",
       "      <td>12</td>\n",
       "      <td>Normal_Gamers</td>\n",
       "      <td>Low</td>\n",
       "      <td>682.5</td>\n",
       "    </tr>\n",
       "    <tr>\n",
       "      <th>1</th>\n",
       "      <td>826</td>\n",
       "      <td>42</td>\n",
       "      <td>18.0</td>\n",
       "      <td>92.0</td>\n",
       "      <td>2</td>\n",
       "      <td>Normal_Gamers</td>\n",
       "      <td>Low</td>\n",
       "      <td>17.5</td>\n",
       "    </tr>\n",
       "    <tr>\n",
       "      <th>2</th>\n",
       "      <td>242</td>\n",
       "      <td>30</td>\n",
       "      <td>1.0</td>\n",
       "      <td>52.0</td>\n",
       "      <td>1</td>\n",
       "      <td>Pro_Gamers</td>\n",
       "      <td>Low</td>\n",
       "      <td>3.5</td>\n",
       "    </tr>\n",
       "    <tr>\n",
       "      <th>3</th>\n",
       "      <td>82</td>\n",
       "      <td>13</td>\n",
       "      <td>1.0</td>\n",
       "      <td>17.0</td>\n",
       "      <td>1</td>\n",
       "      <td>Normal_Gamers</td>\n",
       "      <td>Low</td>\n",
       "      <td>3.5</td>\n",
       "    </tr>\n",
       "    <tr>\n",
       "      <th>4</th>\n",
       "      <td>7</td>\n",
       "      <td>4</td>\n",
       "      <td>1.0</td>\n",
       "      <td>11.0</td>\n",
       "      <td>1</td>\n",
       "      <td>Normal_Gamers</td>\n",
       "      <td>Low</td>\n",
       "      <td>3.5</td>\n",
       "    </tr>\n",
       "  </tbody>\n",
       "</table>\n",
       "</div>"
      ],
      "text/plain": [
       "   total_sessions_played  Highest_Level_reached  purchase_duration  \\\n",
       "0                    501                     48               63.0   \n",
       "1                    826                     42               18.0   \n",
       "2                    242                     30                1.0   \n",
       "3                     82                     13                1.0   \n",
       "4                      7                      4                1.0   \n",
       "\n",
       "   playing_duration  total_purchases_made    gamer_level Cust_Spend  \\\n",
       "0              84.0                    12  Normal_Gamers        Low   \n",
       "1              92.0                     2  Normal_Gamers        Low   \n",
       "2              52.0                     1     Pro_Gamers        Low   \n",
       "3              17.0                     1  Normal_Gamers        Low   \n",
       "4              11.0                     1  Normal_Gamers        Low   \n",
       "\n",
       "   Long term Value  \n",
       "0            682.5  \n",
       "1             17.5  \n",
       "2              3.5  \n",
       "3              3.5  \n",
       "4              3.5  "
      ]
     },
     "execution_count": 456,
     "metadata": {},
     "output_type": "execute_result"
    }
   ],
   "source": [
    "dff.head()"
   ]
  },
  {
   "cell_type": "code",
   "execution_count": 457,
   "metadata": {},
   "outputs": [
    {
     "data": {
      "image/png": "[encoded data removed]",
      "text/plain": [
       "<matplotlib.figure.Figure at 0x1b5e8b700f0>"
      ]
     },
     "metadata": {},
     "output_type": "display_data"
    }
   ],
   "source": [
    "sns.pairplot(dff,kind=\"reg\")\n",
    "plt.show()"
   ]
  },
  {
   "cell_type": "markdown",
   "metadata": {},
   "source": [
    "From the above plot we can say that the Long Term value is in Positive linear relation with all other attributes but some are strongly correlated and some are not."
   ]
  },
  {
   "cell_type": "code",
   "execution_count": 458,
   "metadata": {
    "collapsed": true
   },
   "outputs": [],
   "source": [
    "dft1.to_csv(\"Modelling_Data.csv\")"
   ]
  },
  {
   "cell_type": "markdown",
   "metadata": {
    "collapsed": true
   },
   "source": [
    "Here we have some categorical variables we neeed to convert them into numerical values before fitting linear regression model"
   ]
  },
  {
   "cell_type": "code",
   "execution_count": 459,
   "metadata": {},
   "outputs": [
    {
     "data": {
      "text/html": [
       "<div>\n",
       "<style scoped>\n",
       "    .dataframe tbody tr th:only-of-type {\n",
       "        vertical-align: middle;\n",
       "    }\n",
       "\n",
       "    .dataframe tbody tr th {\n",
       "        vertical-align: top;\n",
       "    }\n",
       "\n",
       "    .dataframe thead th {\n",
       "        text-align: right;\n",
       "    }\n",
       "</style>\n",
       "<table border=\"1\" class=\"dataframe\">\n",
       "  <thead>\n",
       "    <tr style=\"text-align: right;\">\n",
       "      <th></th>\n",
       "      <th>total_sessions_played</th>\n",
       "      <th>Highest_Level_reached</th>\n",
       "      <th>purchase_duration</th>\n",
       "      <th>playing_duration</th>\n",
       "      <th>total_purchases_made</th>\n",
       "      <th>Long term Value</th>\n",
       "      <th>gamer_level_Normal_Gamers</th>\n",
       "      <th>gamer_level_Pro_Gamers</th>\n",
       "      <th>gamer_level_Rookie</th>\n",
       "      <th>Cust_Spend_High</th>\n",
       "      <th>Cust_Spend_Low</th>\n",
       "    </tr>\n",
       "  </thead>\n",
       "  <tbody>\n",
       "    <tr>\n",
       "      <th>0</th>\n",
       "      <td>501</td>\n",
       "      <td>48</td>\n",
       "      <td>63.0</td>\n",
       "      <td>84.0</td>\n",
       "      <td>12</td>\n",
       "      <td>682.5</td>\n",
       "      <td>1</td>\n",
       "      <td>0</td>\n",
       "      <td>0</td>\n",
       "      <td>0</td>\n",
       "      <td>1</td>\n",
       "    </tr>\n",
       "    <tr>\n",
       "      <th>1</th>\n",
       "      <td>826</td>\n",
       "      <td>42</td>\n",
       "      <td>18.0</td>\n",
       "      <td>92.0</td>\n",
       "      <td>2</td>\n",
       "      <td>17.5</td>\n",
       "      <td>1</td>\n",
       "      <td>0</td>\n",
       "      <td>0</td>\n",
       "      <td>0</td>\n",
       "      <td>1</td>\n",
       "    </tr>\n",
       "    <tr>\n",
       "      <th>2</th>\n",
       "      <td>242</td>\n",
       "      <td>30</td>\n",
       "      <td>1.0</td>\n",
       "      <td>52.0</td>\n",
       "      <td>1</td>\n",
       "      <td>3.5</td>\n",
       "      <td>0</td>\n",
       "      <td>1</td>\n",
       "      <td>0</td>\n",
       "      <td>0</td>\n",
       "      <td>1</td>\n",
       "    </tr>\n",
       "    <tr>\n",
       "      <th>3</th>\n",
       "      <td>82</td>\n",
       "      <td>13</td>\n",
       "      <td>1.0</td>\n",
       "      <td>17.0</td>\n",
       "      <td>1</td>\n",
       "      <td>3.5</td>\n",
       "      <td>1</td>\n",
       "      <td>0</td>\n",
       "      <td>0</td>\n",
       "      <td>0</td>\n",
       "      <td>1</td>\n",
       "    </tr>\n",
       "    <tr>\n",
       "      <th>4</th>\n",
       "      <td>7</td>\n",
       "      <td>4</td>\n",
       "      <td>1.0</td>\n",
       "      <td>11.0</td>\n",
       "      <td>1</td>\n",
       "      <td>3.5</td>\n",
       "      <td>1</td>\n",
       "      <td>0</td>\n",
       "      <td>0</td>\n",
       "      <td>0</td>\n",
       "      <td>1</td>\n",
       "    </tr>\n",
       "  </tbody>\n",
       "</table>\n",
       "</div>"
      ],
      "text/plain": [
       "   total_sessions_played  Highest_Level_reached  purchase_duration  \\\n",
       "0                    501                     48               63.0   \n",
       "1                    826                     42               18.0   \n",
       "2                    242                     30                1.0   \n",
       "3                     82                     13                1.0   \n",
       "4                      7                      4                1.0   \n",
       "\n",
       "   playing_duration  total_purchases_made  Long term Value  \\\n",
       "0              84.0                    12            682.5   \n",
       "1              92.0                     2             17.5   \n",
       "2              52.0                     1              3.5   \n",
       "3              17.0                     1              3.5   \n",
       "4              11.0                     1              3.5   \n",
       "\n",
       "   gamer_level_Normal_Gamers  gamer_level_Pro_Gamers  gamer_level_Rookie  \\\n",
       "0                          1                       0                   0   \n",
       "1                          1                       0                   0   \n",
       "2                          0                       1                   0   \n",
       "3                          1                       0                   0   \n",
       "4                          1                       0                   0   \n",
       "\n",
       "   Cust_Spend_High  Cust_Spend_Low  \n",
       "0                0               1  \n",
       "1                0               1  \n",
       "2                0               1  \n",
       "3                0               1  \n",
       "4                0               1  "
      ]
     },
     "execution_count": 459,
     "metadata": {},
     "output_type": "execute_result"
    }
   ],
   "source": [
    "dff1 = pd.get_dummies(dff)\n",
    "dff1.head()"
   ]
  },
  {
   "cell_type": "code",
   "execution_count": 460,
   "metadata": {},
   "outputs": [
    {
     "data": {
      "text/plain": [
       "array([[1.        , 0.11573927],\n",
       "       [0.11573927, 1.        ]])"
      ]
     },
     "execution_count": 460,
     "metadata": {},
     "output_type": "execute_result"
    }
   ],
   "source": [
    "np.corrcoef(dff1[\"Long term Value\"], dff1[\"playing_duration\"])"
   ]
  },
  {
   "cell_type": "code",
   "execution_count": 461,
   "metadata": {},
   "outputs": [
    {
     "data": {
      "text/plain": [
       "array([[1.        , 0.32359093],\n",
       "       [0.32359093, 1.        ]])"
      ]
     },
     "execution_count": 461,
     "metadata": {},
     "output_type": "execute_result"
    }
   ],
   "source": [
    "np.corrcoef(dff1[\"Long term Value\"], dff1[\"purchase_duration\"])"
   ]
  },
  {
   "cell_type": "code",
   "execution_count": 462,
   "metadata": {},
   "outputs": [
    {
     "data": {
      "image/png": "[encoded data removed]",
      "text/plain": [
       "<matplotlib.figure.Figure at 0x1b5e84a6390>"
      ]
     },
     "metadata": {},
     "output_type": "display_data"
    }
   ],
   "source": [
    "corr = dff1.corr(method='pearson')\n",
    "sns.heatmap(corr)\n",
    "plt.show()"
   ]
  },
  {
   "cell_type": "markdown",
   "metadata": {},
   "source": [
    "We can keep a threshold for eliminating the redundant features for building a linear regression model"
   ]
  },
  {
   "cell_type": "markdown",
   "metadata": {},
   "source": [
    "Otherwise we can go for Feature selection Backward elimination technique of Linear regression \n",
    "by keeping a threshold of confidence level to find out the most important features of this model."
   ]
  },
  {
   "cell_type": "code",
   "execution_count": 463,
   "metadata": {
    "collapsed": true
   },
   "outputs": [],
   "source": [
    "Y = dff1[\"Long term Value\"]\n",
    "dff2 = dff1\n",
    "X = dff2.drop(\"Long term Value\",axis =1)"
   ]
  },
  {
   "cell_type": "code",
   "execution_count": 464,
   "metadata": {},
   "outputs": [
    {
     "data": {
      "text/html": [
       "<div>\n",
       "<style scoped>\n",
       "    .dataframe tbody tr th:only-of-type {\n",
       "        vertical-align: middle;\n",
       "    }\n",
       "\n",
       "    .dataframe tbody tr th {\n",
       "        vertical-align: top;\n",
       "    }\n",
       "\n",
       "    .dataframe thead th {\n",
       "        text-align: right;\n",
       "    }\n",
       "</style>\n",
       "<table border=\"1\" class=\"dataframe\">\n",
       "  <thead>\n",
       "    <tr style=\"text-align: right;\">\n",
       "      <th></th>\n",
       "      <th>total_sessions_played</th>\n",
       "      <th>Highest_Level_reached</th>\n",
       "      <th>purchase_duration</th>\n",
       "      <th>playing_duration</th>\n",
       "      <th>total_purchases_made</th>\n",
       "      <th>gamer_level_Normal_Gamers</th>\n",
       "      <th>gamer_level_Pro_Gamers</th>\n",
       "      <th>gamer_level_Rookie</th>\n",
       "      <th>Cust_Spend_High</th>\n",
       "      <th>Cust_Spend_Low</th>\n",
       "    </tr>\n",
       "  </thead>\n",
       "  <tbody>\n",
       "    <tr>\n",
       "      <th>0</th>\n",
       "      <td>501</td>\n",
       "      <td>48</td>\n",
       "      <td>63.0</td>\n",
       "      <td>84.0</td>\n",
       "      <td>12</td>\n",
       "      <td>1</td>\n",
       "      <td>0</td>\n",
       "      <td>0</td>\n",
       "      <td>0</td>\n",
       "      <td>1</td>\n",
       "    </tr>\n",
       "    <tr>\n",
       "      <th>1</th>\n",
       "      <td>826</td>\n",
       "      <td>42</td>\n",
       "      <td>18.0</td>\n",
       "      <td>92.0</td>\n",
       "      <td>2</td>\n",
       "      <td>1</td>\n",
       "      <td>0</td>\n",
       "      <td>0</td>\n",
       "      <td>0</td>\n",
       "      <td>1</td>\n",
       "    </tr>\n",
       "    <tr>\n",
       "      <th>2</th>\n",
       "      <td>242</td>\n",
       "      <td>30</td>\n",
       "      <td>1.0</td>\n",
       "      <td>52.0</td>\n",
       "      <td>1</td>\n",
       "      <td>0</td>\n",
       "      <td>1</td>\n",
       "      <td>0</td>\n",
       "      <td>0</td>\n",
       "      <td>1</td>\n",
       "    </tr>\n",
       "    <tr>\n",
       "      <th>3</th>\n",
       "      <td>82</td>\n",
       "      <td>13</td>\n",
       "      <td>1.0</td>\n",
       "      <td>17.0</td>\n",
       "      <td>1</td>\n",
       "      <td>1</td>\n",
       "      <td>0</td>\n",
       "      <td>0</td>\n",
       "      <td>0</td>\n",
       "      <td>1</td>\n",
       "    </tr>\n",
       "    <tr>\n",
       "      <th>4</th>\n",
       "      <td>7</td>\n",
       "      <td>4</td>\n",
       "      <td>1.0</td>\n",
       "      <td>11.0</td>\n",
       "      <td>1</td>\n",
       "      <td>1</td>\n",
       "      <td>0</td>\n",
       "      <td>0</td>\n",
       "      <td>0</td>\n",
       "      <td>1</td>\n",
       "    </tr>\n",
       "  </tbody>\n",
       "</table>\n",
       "</div>"
      ],
      "text/plain": [
       "   total_sessions_played  Highest_Level_reached  purchase_duration  \\\n",
       "0                    501                     48               63.0   \n",
       "1                    826                     42               18.0   \n",
       "2                    242                     30                1.0   \n",
       "3                     82                     13                1.0   \n",
       "4                      7                      4                1.0   \n",
       "\n",
       "   playing_duration  total_purchases_made  gamer_level_Normal_Gamers  \\\n",
       "0              84.0                    12                          1   \n",
       "1              92.0                     2                          1   \n",
       "2              52.0                     1                          0   \n",
       "3              17.0                     1                          1   \n",
       "4              11.0                     1                          1   \n",
       "\n",
       "   gamer_level_Pro_Gamers  gamer_level_Rookie  Cust_Spend_High  Cust_Spend_Low  \n",
       "0                       0                   0                0               1  \n",
       "1                       0                   0                0               1  \n",
       "2                       1                   0                0               1  \n",
       "3                       0                   0                0               1  \n",
       "4                       0                   0                0               1  "
      ]
     },
     "execution_count": 464,
     "metadata": {},
     "output_type": "execute_result"
    }
   ],
   "source": [
    "X.head()"
   ]
  },
  {
   "cell_type": "code",
   "execution_count": 465,
   "metadata": {},
   "outputs": [
    {
     "data": {
      "text/plain": [
       "(2108,)"
      ]
     },
     "execution_count": 465,
     "metadata": {},
     "output_type": "execute_result"
    }
   ],
   "source": [
    "Y.shape"
   ]
  },
  {
   "cell_type": "code",
   "execution_count": 466,
   "metadata": {
    "collapsed": true
   },
   "outputs": [],
   "source": [
    "#Scaling is important for regression as it depends upon the distance metric. Highly variable scales \n",
    "#of attributes gives erroneous reults\n",
    "\n",
    "from sklearn.preprocessing import StandardScaler\n",
    "sc = StandardScaler()\n",
    "\n",
    "X = sc.fit_transform(X)\n"
   ]
  },
  {
   "cell_type": "code",
   "execution_count": 467,
   "metadata": {
    "collapsed": true
   },
   "outputs": [],
   "source": [
    "from sklearn.cross_validation import train_test_split\n",
    "X_train, X_test, y_train, y_test = train_test_split(X, Y, test_size = 1/3, random_state = 0)"
   ]
  },
  {
   "cell_type": "markdown",
   "metadata": {},
   "source": [
    "Linear Regression Ordinary Least Squares model"
   ]
  },
  {
   "cell_type": "code",
   "execution_count": 468,
   "metadata": {},
   "outputs": [
    {
     "data": {
      "text/plain": [
       "171.60110307296992"
      ]
     },
     "execution_count": 468,
     "metadata": {},
     "output_type": "execute_result"
    }
   ],
   "source": [
    "from sklearn.linear_model import LinearRegression\n",
    "regressor = LinearRegression()\n",
    "regressor.fit(X_train,y_train)\n",
    "\n",
    "y_pred = regressor.predict(X_test)\n",
    "\n",
    "from sklearn.metrics import mean_squared_error\n",
    "np.sqrt(mean_squared_error(y_test, y_pred))"
   ]
  },
  {
   "cell_type": "markdown",
   "metadata": {},
   "source": [
    "Lasso Regression with penalization factor of 130(experimented with different values)"
   ]
  },
  {
   "cell_type": "code",
   "execution_count": 469,
   "metadata": {},
   "outputs": [
    {
     "data": {
      "text/plain": [
       "148.59100905739845"
      ]
     },
     "execution_count": 469,
     "metadata": {},
     "output_type": "execute_result"
    }
   ],
   "source": [
    "from sklearn import linear_model\n",
    "reg = linear_model.Lasso(alpha = 130)\n",
    "reg.fit(X_train,y_train)\n",
    "\n",
    "y_pred = reg.predict(X_test)\n",
    "\n",
    "from sklearn.metrics import mean_squared_error\n",
    "np.sqrt(mean_squared_error(y_test, y_pred))"
   ]
  },
  {
   "cell_type": "code",
   "execution_count": 470,
   "metadata": {},
   "outputs": [
    {
     "data": {
      "text/plain": [
       "3.5"
      ]
     },
     "execution_count": 470,
     "metadata": {},
     "output_type": "execute_result"
    }
   ],
   "source": [
    "Y.min()"
   ]
  },
  {
   "cell_type": "code",
   "execution_count": 471,
   "metadata": {},
   "outputs": [
    {
     "data": {
      "text/plain": [
       "15624.0"
      ]
     },
     "execution_count": 471,
     "metadata": {},
     "output_type": "execute_result"
    }
   ],
   "source": [
    "Y.max()"
   ]
  },
  {
   "cell_type": "markdown",
   "metadata": {},
   "source": [
    "We can do the cross validation and grid search for tuning the hyperparameter like alpha of Lasso for getting good accuracy. But that kind of overfit the model."
   ]
  },
  {
   "cell_type": "code",
   "execution_count": 472,
   "metadata": {
    "collapsed": true
   },
   "outputs": [],
   "source": [
    "from keras.models import Sequential\n",
    "from keras.layers import Dense\n",
    "from keras.wrappers.scikit_learn import KerasRegressor"
   ]
  },
  {
   "cell_type": "code",
   "execution_count": 473,
   "metadata": {
    "collapsed": true
   },
   "outputs": [],
   "source": [
    "model = Sequential()\n",
    "model.add(Dense(10, input_dim=10, activation='sigmoid'))\n",
    "model.add(Dense(5, activation='tanh'))\n",
    "model.add(Dense(1, activation='relu'))\n",
    "model.compile(loss='mean_squared_error', optimizer='adam')"
   ]
  },
  {
   "cell_type": "code",
   "execution_count": 474,
   "metadata": {},
   "outputs": [
    {
     "name": "stdout",
     "output_type": "stream",
     "text": [
      "Epoch 1/10\n",
      "1405/1405 [==============================] - 12s - loss: 209194.8438    \n",
      "Epoch 2/10\n",
      "1405/1405 [==============================] - 0s - loss: 209119.8678     \n",
      "Epoch 3/10\n",
      "1405/1405 [==============================] - 0s - loss: 209040.0870     \n",
      "Epoch 4/10\n",
      "1405/1405 [==============================] - 0s - loss: 208967.7048     \n",
      "Epoch 5/10\n",
      "1405/1405 [==============================] - 0s - loss: 208900.9810     \n",
      "Epoch 6/10\n",
      "1405/1405 [==============================] - 0s - loss: 208846.1971     \n",
      "Epoch 7/10\n",
      "1405/1405 [==============================] - 0s - loss: 208797.8128     \n",
      "Epoch 8/10\n",
      "1405/1405 [==============================] - 0s - loss: 208751.3862      ETA: 0s - los\n",
      "Epoch 9/10\n",
      "1405/1405 [==============================] - 0s - loss: 208709.7461     \n",
      "Epoch 10/10\n",
      "1405/1405 [==============================] - 0s - loss: 208670.2130     \n"
     ]
    },
    {
     "data": {
      "text/plain": [
       "<keras.callbacks.History at 0x1b5a00421d0>"
      ]
     },
     "execution_count": 474,
     "metadata": {},
     "output_type": "execute_result"
    }
   ],
   "source": [
    "model.fit(X_train, y_train, epochs=10, batch_size=10)"
   ]
  },
  {
   "cell_type": "code",
   "execution_count": 475,
   "metadata": {},
   "outputs": [
    {
     "name": "stdout",
     "output_type": "stream",
     "text": [
      "550/703 [======================>.......] - ETA: 0s "
     ]
    },
    {
     "data": {
      "text/plain": [
       "249.04426269842975"
      ]
     },
     "execution_count": 475,
     "metadata": {},
     "output_type": "execute_result"
    }
   ],
   "source": [
    "score = model.evaluate(X_test, y_test, batch_size=50)\n",
    "np.sqrt(score)"
   ]
  },
  {
   "cell_type": "markdown",
   "metadata": {},
   "source": [
    "As there is less amount of data going for deep learning model is not correct"
   ]
  },
  {
   "cell_type": "markdown",
   "metadata": {},
   "source": [
    "So, we need to fit different regression models for different segment (Low spending Customers and High spending customers) otherwise logarithmic model will also do a good job but things get complicated when explaining the logaritmic values."
   ]
  },
  {
   "cell_type": "code",
   "execution_count": 477,
   "metadata": {},
   "outputs": [],
   "source": [
    "l = dff[\"Cust_Spend\"] == \"Low\"\n",
    "h = dff[\"Cust_Spend\"] == \"High\"\n",
    "dffl = dff.ix[l,:] #Low spending customers in terms of purchases\n",
    "dffh = dff.ix[h,:] #High spending customers in terms of purchases"
   ]
  },
  {
   "cell_type": "code",
   "execution_count": 478,
   "metadata": {},
   "outputs": [
    {
     "data": {
      "image/png": "[encoded data removed]",
      "text/plain": [
       "<matplotlib.figure.Figure at 0x1b5e4e60f98>"
      ]
     },
     "metadata": {},
     "output_type": "display_data"
    }
   ],
   "source": [
    "sns.regplot(x=\"playing_duration\", y=\"Long term Value\", data=dffl)\n",
    "plt.show()"
   ]
  },
  {
   "cell_type": "code",
   "execution_count": 479,
   "metadata": {},
   "outputs": [
    {
     "data": {
      "image/png": "[encoded data removed]",
      "text/plain": [
       "<matplotlib.figure.Figure at 0x1b5ef34e7f0>"
      ]
     },
     "metadata": {},
     "output_type": "display_data"
    }
   ],
   "source": [
    "sns.regplot(x=\"playing_duration\", y=\"Long term Value\", data=dffh)\n",
    "plt.show()"
   ]
  },
  {
   "cell_type": "markdown",
   "metadata": {},
   "source": [
    "From the above 2 plots we can say that there is an increase in longterm value (LTV) if the observation period is increased for low end customers but for high end customers it is staying sttill."
   ]
  },
  {
   "cell_type": "code",
   "execution_count": 480,
   "metadata": {},
   "outputs": [
    {
     "data": {
      "image/png": "[encoded data removed]",
      "text/plain": [
       "<matplotlib.figure.Figure at 0x1b5f183c240>"
      ]
     },
     "metadata": {},
     "output_type": "display_data"
    }
   ],
   "source": [
    "g = sns.FacetGrid(dff, col=\"Cust_Spend\", row = \"gamer_level\")\n",
    "g = g.map(plt.scatter,\"playing_duration\", \"Long term Value\")\n",
    "plt.show()"
   ]
  },
  {
   "cell_type": "code",
   "execution_count": 482,
   "metadata": {},
   "outputs": [
    {
     "data": {
      "text/plain": [
       "717.5"
      ]
     },
     "execution_count": 482,
     "metadata": {},
     "output_type": "execute_result"
    }
   ],
   "source": [
    "dff1 = pd.get_dummies(dffl)\n",
    "Y = dff1[\"Long term Value\"]\n",
    "dff2 = dff1\n",
    "X = dff2.drop(\"Long term Value\",axis =1)\n",
    "\n",
    "dff1.head()\n",
    "dff1[\"Long term Value\"].max()"
   ]
  },
  {
   "cell_type": "code",
   "execution_count": 483,
   "metadata": {},
   "outputs": [
    {
     "data": {
      "text/plain": [
       "75.08370584678696"
      ]
     },
     "execution_count": 483,
     "metadata": {},
     "output_type": "execute_result"
    }
   ],
   "source": [
    "\n",
    "from sklearn.preprocessing import StandardScaler\n",
    "sc = StandardScaler()\n",
    "\n",
    "X = sc.fit_transform(X)\n",
    "from sklearn.cross_validation import train_test_split\n",
    "X_train, X_test, y_train, y_test = train_test_split(X, Y, test_size = 1/3, random_state = 0)\n",
    "from sklearn import linear_model\n",
    "reg = linear_model.Lasso(alpha = 130)\n",
    "reg.fit(X_train,y_train)\n",
    "\n",
    "y_pred = reg.predict(X_test)\n",
    "\n",
    "from sklearn.metrics import mean_squared_error\n",
    "np.sqrt(mean_squared_error(y_test, y_pred))"
   ]
  },
  {
   "cell_type": "code",
   "execution_count": 484,
   "metadata": {},
   "outputs": [
    {
     "data": {
      "text/plain": [
       "15624.0"
      ]
     },
     "execution_count": 484,
     "metadata": {},
     "output_type": "execute_result"
    }
   ],
   "source": [
    "dff1 = pd.get_dummies(dffh)\n",
    "Y = dff1[\"Long term Value\"]\n",
    "dff2 = dff1\n",
    "X = dff2.drop(\"Long term Value\",axis =1)\n",
    "\n",
    "dff1.head()\n",
    "dff1[\"Long term Value\"].max()"
   ]
  },
  {
   "cell_type": "code",
   "execution_count": 485,
   "metadata": {},
   "outputs": [
    {
     "data": {
      "text/plain": [
       "857.7704144968004"
      ]
     },
     "execution_count": 485,
     "metadata": {},
     "output_type": "execute_result"
    }
   ],
   "source": [
    "\n",
    "from sklearn.preprocessing import StandardScaler\n",
    "sc = StandardScaler()\n",
    "\n",
    "X = sc.fit_transform(X)\n",
    "from sklearn.cross_validation import train_test_split\n",
    "X_train, X_test, y_train, y_test = train_test_split(X, Y, test_size = 1/3, random_state = 0)\n",
    "from sklearn import linear_model\n",
    "reg = linear_model.Lasso(alpha = 130)\n",
    "reg.fit(X_train,y_train)\n",
    "\n",
    "y_pred = reg.predict(X_test)\n",
    "\n",
    "from sklearn.metrics import mean_squared_error\n",
    "np.sqrt(mean_squared_error(y_test, y_pred))"
   ]
  },
  {
   "cell_type": "markdown",
   "metadata": {},
   "source": [
    "As expected the absolute error for a low spending customer is coming around 75(Long term Value < 700) and for high spending customers is coming around 857(1000< Long term Value < 16000)"
   ]
  },
  {
   "cell_type": "markdown",
   "metadata": {},
   "source": []
  }
 ],
 "metadata": {
  "kernelspec": {
   "display_name": "Python [default]",
   "language": "python",
   "name": "python3"
  },
  "language_info": {
   "codemirror_mode": {
    "name": "ipython",
    "version": 3
   },
   "file_extension": ".py",
   "mimetype": "text/x-python",
   "name": "python",
   "nbconvert_exporter": "python",
   "pygments_lexer": "ipython3",
   "version": "3.5.4"
  }
 },
 "nbformat": 4,
 "nbformat_minor": 2
}
